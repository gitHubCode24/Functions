{
  "nbformat": 4,
  "nbformat_minor": 0,
  "metadata": {
    "colab": {
      "provenance": []
    },
    "kernelspec": {
      "name": "python3",
      "display_name": "Python 3"
    },
    "language_info": {
      "name": "python"
    }
  },
  "cells": [
    {
      "cell_type": "markdown",
      "source": [
        "# Functions Answers"
      ],
      "metadata": {
        "id": "h4nVjI-FgVid"
      }
    },
    {
      "cell_type": "markdown",
      "source": [
        "1. What is the difference between a function and a method in Python?\n",
        "   - A function is a block of code that can be executed on its own, while a method is a function that is bound to an object."
      ],
      "metadata": {
        "id": "rJ4MbhrBgZ88"
      }
    },
    {
      "cell_type": "code",
      "execution_count": null,
      "metadata": {
        "colab": {
          "base_uri": "https://localhost:8080/"
        },
        "id": "qffAo0L2gTdJ",
        "outputId": "bd3f45ef-5352-4529-8d46-c6617f8fe813"
      },
      "outputs": [
        {
          "output_type": "stream",
          "name": "stdout",
          "text": [
            "25\n"
          ]
        }
      ],
      "source": [
        "# Example of a function:\n",
        "def square(num):\n",
        "  return num * num\n",
        "print(square(5))"
      ]
    },
    {
      "cell_type": "code",
      "source": [
        "# Example of a method:\n",
        "text = \"hello\"\n",
        "print(text.upper())"
      ],
      "metadata": {
        "colab": {
          "base_uri": "https://localhost:8080/"
        },
        "id": "ky25bVLahCZK",
        "outputId": "8595f283-edf0-41e4-8231-1447fc8795a2"
      },
      "execution_count": null,
      "outputs": [
        {
          "output_type": "stream",
          "name": "stdout",
          "text": [
            "HELLO\n"
          ]
        }
      ]
    },
    {
      "cell_type": "markdown",
      "source": [
        "2. Explain the concept of function arguments and parameters in Python.\n",
        "   - Parameters are names used in a function to receive values, and arguments are the actual values you give to the function when calling it."
      ],
      "metadata": {
        "id": "EvrzOvwzhOmc"
      }
    },
    {
      "cell_type": "code",
      "source": [
        "# Example of a Parameter and Arguments:\n",
        "def add(a, b): # a and b are parameters\n",
        "  return a + b\n",
        "print(add(5, 3)) # 5 and 3 are arguments"
      ],
      "metadata": {
        "colab": {
          "base_uri": "https://localhost:8080/"
        },
        "id": "dFjDBU6hhLiA",
        "outputId": "879095ae-ede1-4078-e2cf-14742781a888"
      },
      "execution_count": null,
      "outputs": [
        {
          "output_type": "stream",
          "name": "stdout",
          "text": [
            "8\n"
          ]
        }
      ]
    },
    {
      "cell_type": "markdown",
      "source": [
        "3. What are the different ways to define and call a function in Python?\n",
        "   - In Python, a function can be defined using the def keyword or as a lambda (anonymous) function. We can call a function by writing its name followed by parentheses () with required arguments."
      ],
      "metadata": {
        "id": "P0JpqSLphfvB"
      }
    },
    {
      "cell_type": "code",
      "source": [
        "# Example Normal function (using def):\n",
        "def greet(name):\n",
        "  print(\"Hello,\", name)\n",
        "greet(\"Alex\") # calling the function"
      ],
      "metadata": {
        "colab": {
          "base_uri": "https://localhost:8080/"
        },
        "id": "3UBO4GmUh056",
        "outputId": "512ebac5-7787-4b73-e769-c4056a8430b8"
      },
      "execution_count": null,
      "outputs": [
        {
          "output_type": "stream",
          "name": "stdout",
          "text": [
            "Hello, Alex\n"
          ]
        }
      ]
    },
    {
      "cell_type": "code",
      "source": [
        "# Example Lambda function:\n",
        "square = lambda x: x * x\n",
        "print(square(5)) # calling the function"
      ],
      "metadata": {
        "colab": {
          "base_uri": "https://localhost:8080/"
        },
        "id": "ERNof8aih9uO",
        "outputId": "0df9fa2a-8c2f-4aa8-f724-765e0b91493a"
      },
      "execution_count": null,
      "outputs": [
        {
          "output_type": "stream",
          "name": "stdout",
          "text": [
            "25\n"
          ]
        }
      ]
    },
    {
      "cell_type": "markdown",
      "source": [
        "4. What is the purpose of the `return` statement in a Python function?\n",
        "   - The return statement in Python is used to send a value back from a function to the place where it was called. It ends the function and gives the result."
      ],
      "metadata": {
        "id": "AA2ZbHxHiF_c"
      }
    },
    {
      "cell_type": "code",
      "source": [
        "# Example:\n",
        "def add(a, b):\n",
        "  return a + b # returns the sum\n",
        "result = add(3, 5)\n",
        "print(result)"
      ],
      "metadata": {
        "colab": {
          "base_uri": "https://localhost:8080/"
        },
        "id": "5Ld8n5Tzk_JL",
        "outputId": "4d15927c-38b9-409f-e4a6-6f3788338248"
      },
      "execution_count": null,
      "outputs": [
        {
          "output_type": "stream",
          "name": "stdout",
          "text": [
            "8\n"
          ]
        }
      ]
    },
    {
      "cell_type": "markdown",
      "source": [
        "5. What are iterators in Python and how do they differ from iterables?\n",
        "   - An iterable is an object that can be looped over (like lists, tuples, strings), but it does not keep track of the current position. An iterator is an object that produces one element at a time from an iterable and remembers its position, created using the iter() function."
      ],
      "metadata": {
        "id": "eXo9RCvwlE35"
      }
    },
    {
      "cell_type": "code",
      "source": [
        "# Example:\n",
        "# Iterable\n",
        "numbers = [1, 2, 3]\n",
        "# Iterator\n",
        "it = iter(numbers)\n",
        "print(next(it)) # 1\n",
        "print(next(it)) # 2\n",
        "print(next(it)) # 3"
      ],
      "metadata": {
        "colab": {
          "base_uri": "https://localhost:8080/"
        },
        "id": "XxgMTBgQlMD1",
        "outputId": "c59f0d31-c411-44fb-c74c-610c934f3ce4"
      },
      "execution_count": null,
      "outputs": [
        {
          "output_type": "stream",
          "name": "stdout",
          "text": [
            "1\n",
            "2\n",
            "3\n"
          ]
        }
      ]
    },
    {
      "cell_type": "markdown",
      "source": [
        "6. Explain the concept of generators in Python and how they are defined.\n",
        "   - A generator in Python is a function that gives values one at a time using the yield keyword instead of return."
      ],
      "metadata": {
        "id": "u_SFX4mvliWK"
      }
    },
    {
      "cell_type": "code",
      "source": [
        "# Example:\n",
        "def yld(n):\n",
        "  for i in range(n):\n",
        "    yield i*2\n",
        "print(list(yld(5)))"
      ],
      "metadata": {
        "colab": {
          "base_uri": "https://localhost:8080/"
        },
        "id": "q3jwLjIillbe",
        "outputId": "37766c61-f5f0-49a1-e610-0045583c0ea3"
      },
      "execution_count": null,
      "outputs": [
        {
          "output_type": "stream",
          "name": "stdout",
          "text": [
            "[0, 2, 4, 6, 8]\n"
          ]
        }
      ]
    },
    {
      "cell_type": "markdown",
      "source": [
        "7. What are the advantages of using generators over regular functions?\n",
        "   - Generators are memory-efficient and useful for working with large datasets. They can be used in place of lists or other collections when we don’t need to store all values in memory at once."
      ],
      "metadata": {
        "id": "ZCvacZgbluPn"
      }
    },
    {
      "cell_type": "code",
      "source": [
        "# Example:\n",
        "def square_number(n):\n",
        "  result = []\n",
        "  for i in range(n):\n",
        "    result.append(i**2)\n",
        "  return result\n",
        "print(square_number(5))"
      ],
      "metadata": {
        "colab": {
          "base_uri": "https://localhost:8080/"
        },
        "id": "V0m18rU6lzf7",
        "outputId": "863a1b81-9f9c-475e-a27e-dce44cc82ae1"
      },
      "execution_count": null,
      "outputs": [
        {
          "output_type": "stream",
          "name": "stdout",
          "text": [
            "[0, 1, 4, 9, 16]\n"
          ]
        }
      ]
    },
    {
      "cell_type": "markdown",
      "source": [
        "8. What is a lambda function in Python and when is it typically used?\n",
        "   - A lambda function is a small anonymous function that can be defined using the lambda keyword. It is typically used when a function is needed for a short period of time."
      ],
      "metadata": {
        "id": "2B5yfVXOl-Lq"
      }
    },
    {
      "cell_type": "code",
      "source": [
        "# Example:\n",
        "add = lambda x, y: x + y\n",
        "print(add(3, 5))"
      ],
      "metadata": {
        "colab": {
          "base_uri": "https://localhost:8080/"
        },
        "id": "CrHne68ZmN9S",
        "outputId": "3bcb1a02-a90d-415d-c035-fe46783a9f58"
      },
      "execution_count": null,
      "outputs": [
        {
          "output_type": "stream",
          "name": "stdout",
          "text": [
            "8\n"
          ]
        }
      ]
    },
    {
      "cell_type": "markdown",
      "source": [
        "9. Explain the purpose and usage of the `map()` function in Python.\n",
        "   - The map() function applies a function to each element of an iterable and returns an iterator."
      ],
      "metadata": {
        "id": "YJehaRBRmRIU"
      }
    },
    {
      "cell_type": "code",
      "source": [
        "# Example:\n",
        "numbers = [1, 2, 3, 4, 5]\n",
        "squared_numbers = list(map(lambda x: x**2, numbers))\n",
        "print(squared_numbers)"
      ],
      "metadata": {
        "colab": {
          "base_uri": "https://localhost:8080/"
        },
        "id": "2LTAVGQkmWe3",
        "outputId": "6fc1afd0-f257-4204-f4fc-9b26c4396f60"
      },
      "execution_count": null,
      "outputs": [
        {
          "output_type": "stream",
          "name": "stdout",
          "text": [
            "[1, 4, 9, 16, 25]\n"
          ]
        }
      ]
    },
    {
      "cell_type": "markdown",
      "source": [
        "10. What is the difference between `map()`, `reduce()`, and `filter()` functions in Python?\n",
        "    - The map() function applies a function to each element of an iterable and returns an iterator.\n",
        "    - The reduce() function applies a function to a sequence of elements and returns a single value.\n",
        "    - The filter() function returns an iterator where the elements are filtered based on a condition."
      ],
      "metadata": {
        "id": "TsfZH4i-mcpQ"
      }
    },
    {
      "cell_type": "code",
      "source": [
        "# Example for map():\n",
        "numbers = [1, 2, 3, 4, 5]\n",
        "squared_numbers = list(map(lambda x: x**2, numbers))\n",
        "print(squared_numbers)"
      ],
      "metadata": {
        "colab": {
          "base_uri": "https://localhost:8080/"
        },
        "id": "I4iFEh4hmj3F",
        "outputId": "17520efc-f20a-4e9f-a391-6aeb1ec3cfc9"
      },
      "execution_count": null,
      "outputs": [
        {
          "output_type": "stream",
          "name": "stdout",
          "text": [
            "[1, 4, 9, 16, 25]\n"
          ]
        }
      ]
    },
    {
      "cell_type": "code",
      "source": [
        "# Example for reduce():\n",
        "from functools import reduce\n",
        "numbers = [1, 2, 3, 4, 5]\n",
        "sum_of_numbers = reduce(lambda x, y: x + y, numbers)\n",
        "print(sum_of_numbers)"
      ],
      "metadata": {
        "colab": {
          "base_uri": "https://localhost:8080/"
        },
        "id": "46vdgxp4migm",
        "outputId": "2dc350e7-7d06-45a5-dc63-58cad82ca077"
      },
      "execution_count": null,
      "outputs": [
        {
          "output_type": "stream",
          "name": "stdout",
          "text": [
            "15\n"
          ]
        }
      ]
    },
    {
      "cell_type": "code",
      "source": [
        "# Example for filter():\n",
        "numbers = [1, 2, 3, 4, 5, 6, 7, 8, 9, 10]\n",
        "even_numbers = list(filter(lambda x: x % 2 == 0, numbers))\n",
        "print(even_numbers)"
      ],
      "metadata": {
        "colab": {
          "base_uri": "https://localhost:8080/"
        },
        "id": "qDqJ3PqUnBaM",
        "outputId": "dd1391dc-7f69-4fa1-e4ea-361c692cf737"
      },
      "execution_count": null,
      "outputs": [
        {
          "output_type": "stream",
          "name": "stdout",
          "text": [
            "[2, 4, 6, 8, 10]\n"
          ]
        }
      ]
    },
    {
      "cell_type": "markdown",
      "source": [
        "11. Using pen & Paper write the internal mechanism for sum operation using reduce function on this given list:[47,11,42,13];\n",
        "    - See the image on following link: https://drive.google.com/file/d/1cqAXLe7EsJqmYNFrjhZbdL_wIdTyxD7b/view?usp=sharing"
      ],
      "metadata": {
        "id": "J-vtk9fjnKSY"
      }
    },
    {
      "cell_type": "markdown",
      "source": [
        "# Practical Answers"
      ],
      "metadata": {
        "id": "4MZ2erSlry4N"
      }
    },
    {
      "cell_type": "code",
      "source": [
        "# 1. Write a Python function that takes a list of numbers as input and returns the sum of all even numbers in the list.\n",
        "def sum_of_even_numbers(numbers):\n",
        "  return sum(num for num in numbers if num % 2 == 0)\n",
        "print(sum_of_even_numbers([1, 2, 3, 4, 5, 6, 7, 8, 9, 10]))"
      ],
      "metadata": {
        "colab": {
          "base_uri": "https://localhost:8080/"
        },
        "id": "zglkfkh8ruOk",
        "outputId": "4dd791ba-ecf5-46b2-cde3-db40f7a4acd2"
      },
      "execution_count": 27,
      "outputs": [
        {
          "output_type": "stream",
          "name": "stdout",
          "text": [
            "30\n"
          ]
        }
      ]
    },
    {
      "cell_type": "code",
      "source": [
        "# 2. Create a Python function that accepts a string and returns the reverse of that string.\n",
        "def reverse_string(string):\n",
        "  return string[::-1]\n",
        "print(reverse_string(\"hello world\"))"
      ],
      "metadata": {
        "colab": {
          "base_uri": "https://localhost:8080/"
        },
        "id": "FMF_POuBr-f1",
        "outputId": "2eebb7f0-330a-4dca-b22f-a87be6177ee2"
      },
      "execution_count": 29,
      "outputs": [
        {
          "output_type": "stream",
          "name": "stdout",
          "text": [
            "dlrow olleh\n"
          ]
        }
      ]
    },
    {
      "cell_type": "code",
      "source": [
        "# 3. Implement a Python function that takes a list of integers and returns a new list containing the squares of each number.\n",
        "def square_numbers(numbers):\n",
        "  return [num**2 for num in numbers]\n",
        "print(square_numbers([1, 2, 3, 4, 5]))"
      ],
      "metadata": {
        "colab": {
          "base_uri": "https://localhost:8080/"
        },
        "id": "u953qJ7MsGcL",
        "outputId": "2991ae2d-94bb-4abd-a872-772b7e38ad8d"
      },
      "execution_count": 31,
      "outputs": [
        {
          "output_type": "stream",
          "name": "stdout",
          "text": [
            "[1, 4, 9, 16, 25]\n"
          ]
        }
      ]
    },
    {
      "cell_type": "code",
      "source": [
        "# 4. Write a Python function that checks if a given number is prime or not from 1 to 200.\n",
        "def is_prime(number):\n",
        "  if number <= 1:\n",
        "    return False\n",
        "  for i in range(2, int(number**0.5) + 1):\n",
        "    if number % i == 0:\n",
        "      return False\n",
        "  return True\n",
        "for num in range(1, 201):\n",
        "  if is_prime(num):\n",
        "    print(num, \"is a prime number\")\n",
        "  else:\n",
        "    print(num, \"is not a prime number\")"
      ],
      "metadata": {
        "colab": {
          "base_uri": "https://localhost:8080/"
        },
        "id": "9BK6SZBnsNKe",
        "outputId": "31f178dd-5bf7-497b-951f-ae259ac96efa"
      },
      "execution_count": 33,
      "outputs": [
        {
          "output_type": "stream",
          "name": "stdout",
          "text": [
            "1 is not a prime number\n",
            "2 is a prime number\n",
            "3 is a prime number\n",
            "4 is not a prime number\n",
            "5 is a prime number\n",
            "6 is not a prime number\n",
            "7 is a prime number\n",
            "8 is not a prime number\n",
            "9 is not a prime number\n",
            "10 is not a prime number\n",
            "11 is a prime number\n",
            "12 is not a prime number\n",
            "13 is a prime number\n",
            "14 is not a prime number\n",
            "15 is not a prime number\n",
            "16 is not a prime number\n",
            "17 is a prime number\n",
            "18 is not a prime number\n",
            "19 is a prime number\n",
            "20 is not a prime number\n",
            "21 is not a prime number\n",
            "22 is not a prime number\n",
            "23 is a prime number\n",
            "24 is not a prime number\n",
            "25 is not a prime number\n",
            "26 is not a prime number\n",
            "27 is not a prime number\n",
            "28 is not a prime number\n",
            "29 is a prime number\n",
            "30 is not a prime number\n",
            "31 is a prime number\n",
            "32 is not a prime number\n",
            "33 is not a prime number\n",
            "34 is not a prime number\n",
            "35 is not a prime number\n",
            "36 is not a prime number\n",
            "37 is a prime number\n",
            "38 is not a prime number\n",
            "39 is not a prime number\n",
            "40 is not a prime number\n",
            "41 is a prime number\n",
            "42 is not a prime number\n",
            "43 is a prime number\n",
            "44 is not a prime number\n",
            "45 is not a prime number\n",
            "46 is not a prime number\n",
            "47 is a prime number\n",
            "48 is not a prime number\n",
            "49 is not a prime number\n",
            "50 is not a prime number\n",
            "51 is not a prime number\n",
            "52 is not a prime number\n",
            "53 is a prime number\n",
            "54 is not a prime number\n",
            "55 is not a prime number\n",
            "56 is not a prime number\n",
            "57 is not a prime number\n",
            "58 is not a prime number\n",
            "59 is a prime number\n",
            "60 is not a prime number\n",
            "61 is a prime number\n",
            "62 is not a prime number\n",
            "63 is not a prime number\n",
            "64 is not a prime number\n",
            "65 is not a prime number\n",
            "66 is not a prime number\n",
            "67 is a prime number\n",
            "68 is not a prime number\n",
            "69 is not a prime number\n",
            "70 is not a prime number\n",
            "71 is a prime number\n",
            "72 is not a prime number\n",
            "73 is a prime number\n",
            "74 is not a prime number\n",
            "75 is not a prime number\n",
            "76 is not a prime number\n",
            "77 is not a prime number\n",
            "78 is not a prime number\n",
            "79 is a prime number\n",
            "80 is not a prime number\n",
            "81 is not a prime number\n",
            "82 is not a prime number\n",
            "83 is a prime number\n",
            "84 is not a prime number\n",
            "85 is not a prime number\n",
            "86 is not a prime number\n",
            "87 is not a prime number\n",
            "88 is not a prime number\n",
            "89 is a prime number\n",
            "90 is not a prime number\n",
            "91 is not a prime number\n",
            "92 is not a prime number\n",
            "93 is not a prime number\n",
            "94 is not a prime number\n",
            "95 is not a prime number\n",
            "96 is not a prime number\n",
            "97 is a prime number\n",
            "98 is not a prime number\n",
            "99 is not a prime number\n",
            "100 is not a prime number\n",
            "101 is a prime number\n",
            "102 is not a prime number\n",
            "103 is a prime number\n",
            "104 is not a prime number\n",
            "105 is not a prime number\n",
            "106 is not a prime number\n",
            "107 is a prime number\n",
            "108 is not a prime number\n",
            "109 is a prime number\n",
            "110 is not a prime number\n",
            "111 is not a prime number\n",
            "112 is not a prime number\n",
            "113 is a prime number\n",
            "114 is not a prime number\n",
            "115 is not a prime number\n",
            "116 is not a prime number\n",
            "117 is not a prime number\n",
            "118 is not a prime number\n",
            "119 is not a prime number\n",
            "120 is not a prime number\n",
            "121 is not a prime number\n",
            "122 is not a prime number\n",
            "123 is not a prime number\n",
            "124 is not a prime number\n",
            "125 is not a prime number\n",
            "126 is not a prime number\n",
            "127 is a prime number\n",
            "128 is not a prime number\n",
            "129 is not a prime number\n",
            "130 is not a prime number\n",
            "131 is a prime number\n",
            "132 is not a prime number\n",
            "133 is not a prime number\n",
            "134 is not a prime number\n",
            "135 is not a prime number\n",
            "136 is not a prime number\n",
            "137 is a prime number\n",
            "138 is not a prime number\n",
            "139 is a prime number\n",
            "140 is not a prime number\n",
            "141 is not a prime number\n",
            "142 is not a prime number\n",
            "143 is not a prime number\n",
            "144 is not a prime number\n",
            "145 is not a prime number\n",
            "146 is not a prime number\n",
            "147 is not a prime number\n",
            "148 is not a prime number\n",
            "149 is a prime number\n",
            "150 is not a prime number\n",
            "151 is a prime number\n",
            "152 is not a prime number\n",
            "153 is not a prime number\n",
            "154 is not a prime number\n",
            "155 is not a prime number\n",
            "156 is not a prime number\n",
            "157 is a prime number\n",
            "158 is not a prime number\n",
            "159 is not a prime number\n",
            "160 is not a prime number\n",
            "161 is not a prime number\n",
            "162 is not a prime number\n",
            "163 is a prime number\n",
            "164 is not a prime number\n",
            "165 is not a prime number\n",
            "166 is not a prime number\n",
            "167 is a prime number\n",
            "168 is not a prime number\n",
            "169 is not a prime number\n",
            "170 is not a prime number\n",
            "171 is not a prime number\n",
            "172 is not a prime number\n",
            "173 is a prime number\n",
            "174 is not a prime number\n",
            "175 is not a prime number\n",
            "176 is not a prime number\n",
            "177 is not a prime number\n",
            "178 is not a prime number\n",
            "179 is a prime number\n",
            "180 is not a prime number\n",
            "181 is a prime number\n",
            "182 is not a prime number\n",
            "183 is not a prime number\n",
            "184 is not a prime number\n",
            "185 is not a prime number\n",
            "186 is not a prime number\n",
            "187 is not a prime number\n",
            "188 is not a prime number\n",
            "189 is not a prime number\n",
            "190 is not a prime number\n",
            "191 is a prime number\n",
            "192 is not a prime number\n",
            "193 is a prime number\n",
            "194 is not a prime number\n",
            "195 is not a prime number\n",
            "196 is not a prime number\n",
            "197 is a prime number\n",
            "198 is not a prime number\n",
            "199 is a prime number\n",
            "200 is not a prime number\n"
          ]
        }
      ]
    },
    {
      "cell_type": "code",
      "source": [
        "# 5. Create an iterator class in Python that generates the Fibonacci sequence up to a specified number of terms.\n",
        "class FibonacciIterator:\n",
        "  def __init__(self, n):\n",
        "    self.n = n\n",
        "    self.a = 0\n",
        "    self.b = 1\n",
        "\n",
        "  def __iter__(self):\n",
        "    return self\n",
        "\n",
        "  def __next__(self):\n",
        "    if self.a > self.n:\n",
        "      raise StopIteration\n",
        "    result = self.a\n",
        "    self.a, self.b = self.b, self.a + self.b\n",
        "    return result\n",
        "\n",
        "fib = FibonacciIterator(10)\n",
        "print(list(fib))"
      ],
      "metadata": {
        "colab": {
          "base_uri": "https://localhost:8080/"
        },
        "id": "cWLHCKFNsmd8",
        "outputId": "d17b3e16-54ca-460d-e4b5-c02d7bd4c509"
      },
      "execution_count": 35,
      "outputs": [
        {
          "output_type": "stream",
          "name": "stdout",
          "text": [
            "[0, 1, 1, 2, 3, 5, 8]\n"
          ]
        }
      ]
    },
    {
      "cell_type": "code",
      "source": [
        "# 6. Write a generator function in Python that yields the powers of 2 up to a given exponent.\n",
        "def powers_of_2(exponent):\n",
        "  for i in range(exponent + 1):\n",
        "    yield 2**i\n",
        "print(list(powers_of_2(5)))"
      ],
      "metadata": {
        "colab": {
          "base_uri": "https://localhost:8080/"
        },
        "id": "sB30WCdJtRZk",
        "outputId": "b151a852-5536-4092-e845-d10eace995df"
      },
      "execution_count": 38,
      "outputs": [
        {
          "output_type": "stream",
          "name": "stdout",
          "text": [
            "[1, 2, 4, 8, 16, 32]\n"
          ]
        }
      ]
    },
    {
      "cell_type": "code",
      "source": [
        "# 7. Implement a generator function that reads a file line by line and yields each line as a string.\n",
        "import requests\n",
        "\n",
        "def read_file_lines(url):\n",
        "    response = requests.get(url)\n",
        "    for line in response.text.splitlines():\n",
        "        yield line.strip()\n",
        "\n",
        "url = \"https://colab.research.google.com/drive/1uSKeCz03sFxr6IG4K27SoChaxIwPj4dq?usp=drive_link/Functions.ipynb\"\n",
        "print(list(read_file_lines(url)))"
      ],
      "metadata": {
        "colab": {
          "base_uri": "https://localhost:8080/"
        },
        "id": "hxFgPNQStafF",
        "outputId": "c6b8fb2e-a8cd-4bf7-c081-67b37924dd78"
      },
      "execution_count": 50,
      "outputs": [
        {
          "output_type": "stream",
          "name": "stdout",
          "text": [
            "['<!DOCTYPE html><html lang=\"en\"><head><script nonce=\"mL0xr1RZ/ldLtc36ki5rZA==\">', \"document.addEventListener('keydown', (e) => {\", '// Stop propagation on ESC because otherwise it will halt outbound XHRs', '// See b/131755324 for more info.', \"if (e.key === 'Escape') {\", 'e.stopPropagation();', 'e.preventDefault();', '}', '});', '</script><meta name=\"referrer\" content=\"origin\"/><meta name=\"viewport\" content=\"width=device-width, initial-scale=1\"><title>Google Colab</title><link href=\"https://fonts.googleapis.com/css2?family=Google+Symbols:FILL@0..1&display=block\" rel=\"stylesheet\"><link href=\"https://fonts.googleapis.com/css?family=Roboto:300,400,500,600,700|Google+Sans:300,400,500,600,700|Google+Sans+Text:400,500,700&display=block\" rel=\"stylesheet\"><link rel=\"search\" type=\"application/opensearchdescription+xml\" href=\"/opensearch.xml\" title=\"Google Colab\"/><style>.gb_ub{font:13px/27px Roboto,Arial,sans-serif;z-index:986}@-webkit-keyframes gb__a{0%{opacity:0}50%{opacity:1}}@keyframes gb__a{0%{opacity:0}50%{opacity:1}}a.gb_Qa{border:none;color:#4285f4;cursor:default;font-weight:bold;outline:none;position:relative;text-align:center;text-decoration:none;text-transform:uppercase;white-space:nowrap;-webkit-user-select:none;-moz-user-select:none;-ms-user-select:none;user-select:none}a.gb_Qa:hover::after,a.gb_Qa:focus::after{background-color:rgba(0,0,0,.12);content:\"\";height:100%;left:0;position:absolute;top:0;width:100%}a.gb_Qa:hover,a.gb_Qa:focus{text-decoration:none}a.gb_Qa:active{background-color:rgba(153,153,153,.4);text-decoration:none}a.gb_Ra{background-color:#4285f4;color:#fff}a.gb_Ra:active{background-color:#0043b2}.gb_Sa{-webkit-box-shadow:0 1px 1px rgba(0,0,0,.16);box-shadow:0 1px 1px rgba(0,0,0,.16)}.gb_Qa,.gb_Ra,.gb_Ta,.gb_Ua{display:inline-block;line-height:28px;padding:0 12px;border-radius:2px}.gb_Ta,.gb_Ua{background:#f8f8f8;border:1px solid #c6c6c6}.gb_Ta,#gb a.gb_Ta.gb_Ta,.gb_Ua,#gb a.gb_Ua{color:#666;cursor:default;text-decoration:none}.gb_Ua{border:1px solid #4285f4;font-weight:bold;outline:none;background:-webkit-gradient(linear,left top,left bottom,from(#4387fd),to(#4683ea));background:-webkit-linear-gradient(top,#4387fd,#4683ea);background:linear-gradient(to bottom,#4387fd,#4683ea)}#gb a.gb_Ua{color:#fff}.gb_Ua:hover{-webkit-box-shadow:0 1px 0 rgba(0,0,0,.15);box-shadow:0 1px 0 rgba(0,0,0,.15)}.gb_Ua:active{-webkit-box-shadow:inset 0 2px 0 rgba(0,0,0,.15);box-shadow:inset 0 2px 0 rgba(0,0,0,.15);background:-webkit-gradient(linear,left top,left bottom,from(#3c7ae4),to(#3f76d3));background:-webkit-linear-gradient(top,#3c7ae4,#3f76d3);background:linear-gradient(to bottom,#3c7ae4,#3f76d3)}#gb .gb_Va{background:#ffffff;border:1px solid #dadce0;color:#1a73e8;display:inline-block;text-decoration:none}#gb .gb_Va:hover{background:#f8fbff;border-color:#dadce0;color:#174ea6}#gb .gb_Va:focus{background:#f4f8ff;color:#174ea6;outline:1px solid #174ea6}#gb .gb_Va:active,#gb .gb_Va:focus:active{background:#ecf3fe;color:#174ea6}#gb .gb_Va.gb_H{background:transparent;border:1px solid #5f6368;color:#8ab4f8;text-decoration:none}#gb .gb_Va.gb_H:hover{background:rgba(255,255,255,.04);color:#e8eaed}#gb .gb_Va.gb_H:focus{background:rgba(232,234,237,.12);color:#e8eaed;outline:1px solid #e8eaed}#gb .gb_Va.gb_H:active,#gb .gb_Va.gb_H:focus:active{background:rgba(232,234,237,.1);color:#e8eaed}.gb_td{display:inline-block;padding:4px 4px 4px 4px;vertical-align:middle}.gb_ud .gb_Q{bottom:-3px;right:-5px}.gb_td:first-child,#gbsfw:first-child+.gb_td{padding-left:0}.gb_D{position:relative}.gb_B{display:inline-block;outline:none;vertical-align:middle;border-radius:2px;-webkit-box-sizing:border-box;box-sizing:border-box;height:40px;width:40px}.gb_B,#gb#gb a.gb_B{cursor:pointer;text-decoration:none}.gb_B,a.gb_B{color:#000}.gb_vd,.gb_wd{border-color:transparent;border-bottom-color:#fff;border-style:dashed dashed solid;border-width:0 8.5px 8.5px;display:none;position:absolute;left:6.5px;top:37px;z-index:1;height:0;width:0;-webkit-animation:gb__a .2s;animation:gb__a .2s}.gb_wd{border-bottom-color:#ccc;border-bottom-color:rgba(0,0,0,.2);top:32px}x:-o-prefocus,div.gb_wd{border-bottom-color:#ccc}.gb_la{background:#fff;border:1px solid #ccc;border-color:rgba(0,0,0,.2);color:#000;-webkit-box-shadow:0 2px 10px rgba(0,0,0,.2);box-shadow:0 2px 10px rgba(0,0,0,.2);display:none;outline:none;overflow:hidden;position:absolute;right:8px;top:62px;-webkit-animation:gb__a .2s;animation:gb__a .2s;border-radius:2px;-moz-user-select:text;-ms-user-select:text;-webkit-user-select:text}.gb_td.gb_8c .gb_vd,.gb_td.gb_8c .gb_wd,.gb_td.gb_8c .gb_la,.gb_8c.gb_la{display:block}.gb_td.gb_8c.gb_xd .gb_vd,.gb_td.gb_8c.gb_xd .gb_wd{display:none}.gb_yd{position:absolute;right:8px;top:62px;z-index:-1}.gb_kb .gb_vd,.gb_kb .gb_wd,.gb_kb .gb_la{margin-top:-10px}.gb_td:first-child,#gbsfw:first-child+.gb_td{padding-left:4px}.gb_Fa.gb_zd .gb_td:first-child{padding-left:0}.gb_Ad{position:relative}.gb_gd .gb_Ad,.gb_Bd .gb_Ad{float:right}.gb_B{padding:8px;cursor:pointer}.gb_B::after{content:\"\";position:absolute;top:-4px;bottom:-4px;left:-4px;right:-4px}.gb_Fa .gb_Cd:not(.gb_Qa):focus img{background-color:rgba(0,0,0,.2);outline:none;border-radius:50%}.gb_Dd button svg,.gb_B{border-radius:50%}.gb_Dd button:focus:not(:focus-visible) svg,.gb_Dd button:hover svg,.gb_Dd button:active svg,.gb_B:focus:not(:focus-visible),.gb_B:hover,.gb_B:active,.gb_B[aria-expanded=true]{outline:none}.gb_0c .gb_Dd.gb_Ed button:focus-visible svg,.gb_Dd button:focus-visible svg,.gb_B:focus-visible{outline:1px solid #202124}.gb_0c .gb_Dd button:focus-visible svg,.gb_0c .gb_B:focus-visible{outline:1px solid #f1f3f4}@media (forced-colors:active){.gb_0c .gb_Dd.gb_Ed button:focus-visible svg,.gb_Dd button:focus-visible svg,.gb_0c .gb_Dd button:focus-visible svg{outline:1px solid currentcolor}}.gb_0c .gb_Dd.gb_Ed button:focus svg,.gb_0c .gb_Dd.gb_Ed button:focus:hover svg,.gb_Dd button:focus svg,.gb_Dd button:focus:hover svg,.gb_B:focus,.gb_B:focus:hover{background-color:rgba(60,64,67,.1)}.gb_0c .gb_Dd.gb_Ed button:active svg,.gb_Dd button:active svg,.gb_B:active{background-color:rgba(60,64,67,.12)}.gb_0c .gb_Dd.gb_Ed button:hover svg,.gb_Dd button:hover svg,.gb_B:hover{background-color:rgba(60,64,67,.08)}.gb_Wa .gb_B.gb_Za:hover{background-color:transparent}.gb_B[aria-expanded=true],.gb_B:hover[aria-expanded=true]{background-color:rgba(95,99,104,.24)}.gb_B[aria-expanded=true] .gb_F{fill:#5f6368;opacity:1}.gb_0c .gb_Dd button:hover svg,.gb_0c .gb_B:hover{background-color:rgba(232,234,237,.08)}.gb_0c .gb_Dd button:focus svg,.gb_0c .gb_Dd button:focus:hover svg,.gb_0c .gb_B:focus,.gb_0c .gb_B:focus:hover{background-color:rgba(232,234,237,.1)}.gb_0c .gb_Dd button:active svg,.gb_0c .gb_B:active{background-color:rgba(232,234,237,.12)}.gb_0c .gb_B[aria-expanded=true],.gb_0c .gb_B:hover[aria-expanded=true]{background-color:rgba(255,255,255,.12)}.gb_0c .gb_B[aria-expanded=true] .gb_F{fill:#ffffff;opacity:1}.gb_td{padding:4px}.gb_Fa.gb_zd .gb_td{padding:4px 2px}.gb_Fa.gb_zd .gb_z.gb_td{padding-left:6px}.gb_la{z-index:991;line-height:normal}.gb_la.gb_Fd{left:0;right:auto}@media (max-width:350px){.gb_la.gb_Fd{left:0}}.gb_Hd .gb_la{top:56px}.gb_R{display:none!important}.gb_eb{visibility:hidden}.gb_J .gb_B{background-position:-64px -29px;opacity:.55}.gb_ka .gb_J .gb_B{background-position:-64px -29px}.gb_1 .gb_J .gb_B{background-position:-29px -29px;opacity:1}.gb_J .gb_B,.gb_J .gb_B:hover,.gb_J .gb_B:focus{opacity:1}.gb_L{display:none}@media screen and (max-width:319px){.gb_Id:not(.gb_Jd) .gb_J{display:none;visibility:hidden}}.gb_Q{display:none}.gb_nd{font-family:Google Sans,Roboto,Helvetica,Arial,sans-serif;font-size:20px;font-weight:400;letter-spacing:.25px;line-height:48px;margin-bottom:2px;opacity:1;overflow:hidden;padding-left:16px;position:relative;text-overflow:ellipsis;vertical-align:middle;top:2px;white-space:nowrap;-webkit-flex:1 1 auto;-webkit-box-flex:1;flex:1 1 auto}.gb_nd.gb_od{color:#3c4043}.gb_Fa.gb_oc .gb_nd{margin-bottom:0}.gb_pd.gb_qd .gb_nd{padding-left:4px}.gb_Fa.gb_oc .gb_rd{position:relative;top:-2px}.gb_sd{display:none}.gb_Fa{color:black;min-width:160px;position:relative;-webkit-transition:-webkit-box-shadow .25s;transition:-webkit-box-shadow .25s;transition:box-shadow .25s;transition:box-shadow .25s,-webkit-box-shadow .25s}.gb_Fa.gb_7c{min-width:120px}.gb_Fa.gb_Pd .gb_Qd{display:none}.gb_Fa.gb_Pd .gb_Id{height:56px}header.gb_Fa{display:block}.gb_Fa svg{fill:currentColor}.gb_Rd{position:fixed;top:0;width:100%}.gb_Sd{-webkit-box-shadow:0 4px 5px 0 rgba(0,0,0,.14),0 1px 10px 0 rgba(0,0,0,.12),0 2px 4px -1px rgba(0,0,0,.2);box-shadow:0 4px 5px 0 rgba(0,0,0,.14),0 1px 10px 0 rgba(0,0,0,.12),0 2px 4px -1px rgba(0,0,0,.2)}.gb_Td{height:64px}.gb_Id{-webkit-box-sizing:border-box;box-sizing:border-box;position:relative;width:100%;display:-webkit-box;display:-webkit-flex;display:flex;-webkit-box-pack:justify;-webkit-justify-content:space-between;justify-content:space-between;min-width:-webkit-min-content;min-width:-moz-min-content;min-width:min-content}.gb_Fa:not(.gb_oc) .gb_Id{padding:8px}.gb_Fa.gb_Vd .gb_Id{-webkit-box-flex:1;-webkit-flex:1 0 auto;flex:1 0 auto}.gb_Fa .gb_Id.gb_Jd.gb_Wd{min-width:0}.gb_Fa.gb_oc .gb_Id{padding:4px;padding-left:8px;min-width:0}.gb_Qd{height:48px;vertical-align:middle;white-space:nowrap;-webkit-box-align:center;-webkit-align-items:center;align-items:center;display:-webkit-box;display:-webkit-flex;display:flex;-webkit-user-select:none;-moz-user-select:none;-ms-user-select:none;user-select:none}.gb_Xd>.gb_Qd{display:table-cell;width:100%}.gb_pd{padding-right:30px;-webkit-box-sizing:border-box;box-sizing:border-box;-webkit-box-flex:1;-webkit-flex:1 0 auto;flex:1 0 auto}.gb_Fa.gb_oc .gb_pd{padding-right:14px}.gb_Zd{-webkit-box-flex:1;-webkit-flex:1 1 100%;flex:1 1 100%}.gb_Zd>:only-child{display:inline-block}.gb_0d.gb_hd{padding-left:4px}.gb_0d.gb_1d,.gb_Fa.gb_Vd .gb_0d,.gb_Fa.gb_oc:not(.gb_Bd) .gb_0d{padding-left:0}.gb_Fa.gb_oc .gb_0d.gb_1d{padding-right:0}.gb_Fa.gb_oc .gb_0d.gb_1d .gb_Wa{margin-left:10px}.gb_hd{display:inline}.gb_Fa.gb_bd .gb_0d.gb_2d,.gb_Fa.gb_Bd .gb_0d.gb_2d{padding-left:2px}.gb_nd{display:inline-block}.gb_0d{-webkit-box-sizing:border-box;box-sizing:border-box;height:48px;line-height:normal;padding:0 4px;padding-left:30px;-webkit-box-flex:0;-webkit-flex:0 0 auto;flex:0 0 auto;-webkit-box-pack:end;-webkit-justify-content:flex-end;justify-content:flex-end}.gb_Bd{height:48px}.gb_Fa.gb_Bd{min-width:auto}.gb_Bd .gb_0d{float:right;padding-left:32px}.gb_Bd .gb_0d.gb_3d{padding-left:0}.gb_4d{font-size:14px;max-width:200px;overflow:hidden;padding:0 12px;text-overflow:ellipsis;white-space:nowrap;-webkit-user-select:text;-moz-user-select:text;-ms-user-select:text;user-select:text}.gb_Ld{-webkit-transition:background-color .4s;transition:background-color .4s}.gb_7d{color:black}.gb_0c{color:white}.gb_Fa a,.gb_4c a{color:inherit}.gb_ba{color:rgba(0,0,0,.87)}.gb_Fa svg,.gb_4c svg,.gb_pd .gb_Od,.gb_gd .gb_Od{color:#5f6368;opacity:1}.gb_0c svg,.gb_4c.gb_9c svg{color:rgba(255,255,255,.87)}.gb_0c .gb_pd .gb_Od,.gb_0c .gb_pd .gb_Zc,.gb_0c .gb_pd .gb_rd,.gb_4c.gb_9c .gb_Od{color:rgba(255,255,255,.87)}.gb_0c .gb_pd .gb_Xc:not(.gb_8d){opacity:.87}.gb_od{color:inherit;opacity:1;text-rendering:optimizeLegibility;-webkit-font-smoothing:antialiased;-moz-osx-font-smoothing:grayscale}.gb_0c .gb_od,.gb_7d .gb_od{opacity:1}.gb_5d{position:relative}.gb_M{font-family:arial,sans-serif;line-height:normal;padding-right:15px}a.gb_X,span.gb_X{color:rgba(0,0,0,.87);text-decoration:none}.gb_0c a.gb_X,.gb_0c span.gb_X{color:white}a.gb_X:focus{outline-offset:2px}a.gb_X:hover{text-decoration:underline}.gb_Z{display:inline-block;padding-left:15px}.gb_Z .gb_X{display:inline-block;line-height:24px;vertical-align:middle}.gb_Md{font-family:Google Sans,Roboto,Helvetica,Arial,sans-serif;font-weight:500;font-size:14px;letter-spacing:.25px;line-height:16px;margin-left:10px;margin-right:8px;min-width:96px;padding:9px 23px;text-align:center;vertical-align:middle;border-radius:4px;-webkit-box-sizing:border-box;box-sizing:border-box}.gb_Fa.gb_Bd .gb_Md{margin-left:8px}#gb a.gb_Ua.gb_Md{cursor:pointer}.gb_Ua.gb_Md:hover{background:#1b66c9;-webkit-box-shadow:0 1px 3px 1px rgba(66,64,67,.15),0 1px 2px 0 rgba(60,64,67,.3);box-shadow:0 1px 3px 1px rgba(66,64,67,.15),0 1px 2px 0 rgba(60,64,67,.3)}.gb_Ua.gb_Md:focus,.gb_Ua.gb_Md:hover:focus{background:#1c5fba;-webkit-box-shadow:0 1px 3px 1px rgba(66,64,67,.15),0 1px 2px 0 rgba(60,64,67,.3);box-shadow:0 1px 3px 1px rgba(66,64,67,.15),0 1px 2px 0 rgba(60,64,67,.3)}.gb_Ua.gb_Md:active{background:#1b63c1;-webkit-box-shadow:0 1px 3px 1px rgba(66,64,67,.15),0 1px 2px 0 rgba(60,64,67,.3);box-shadow:0 1px 3px 1px rgba(66,64,67,.15),0 1px 2px 0 rgba(60,64,67,.3)}.gb_Md{background:#1a73e8;border:1px solid transparent}.gb_Fa.gb_oc .gb_Md{padding:9px 15px;min-width:80px}.gb_6d{text-align:left}#gb .gb_0c a.gb_Md:not(.gb_H),#gb.gb_0c a.gb_Md{background:#fff;border-color:#dadce0;-webkit-box-shadow:none;box-shadow:none;color:#1a73e8}#gb a.gb_Ua.gb_H.gb_Md{background:#8ab4f8;border:1px solid transparent;-webkit-box-shadow:none;box-shadow:none;color:#202124}#gb .gb_0c a.gb_Md:hover:not(.gb_H),#gb.gb_0c a.gb_Md:hover{background:#f8fbff;border-color:#cce0fc}#gb a.gb_Ua.gb_H.gb_Md:hover{background:#93baf9;border-color:transparent;-webkit-box-shadow:0 1px 3px 1px rgba(0,0,0,.15),0 1px 2px rgba(0,0,0,.3);box-shadow:0 1px 3px 1px rgba(0,0,0,.15),0 1px 2px rgba(0,0,0,.3)}#gb .gb_0c a.gb_Md:focus:not(.gb_H),#gb .gb_0c a.gb_Md:focus:hover:not(.gb_H),#gb.gb_0c a.gb_Md:focus:not(.gb_H),#gb.gb_0c a.gb_Md:focus:hover:not(.gb_H){background:#f4f8ff;outline:1px solid #c9ddfc}#gb a.gb_Ua.gb_H.gb_Md:focus,#gb a.gb_Ua.gb_H.gb_Md:focus:hover{background:#a6c6fa;border-color:transparent;-webkit-box-shadow:none;box-shadow:none}#gb .gb_0c a.gb_Md:active:not(.gb_H),#gb.gb_0c a.gb_Md:active{background:#ecf3fe}#gb a.gb_Ua.gb_H.gb_Md:active{background:#a1c3f9;-webkit-box-shadow:0 1px 2px rgba(60,64,67,.3),0 2px 6px 2px rgba(60,64,67,.15);box-shadow:0 1px 2px rgba(60,64,67,.3),0 2px 6px 2px rgba(60,64,67,.15)}.gb_K{display:none}@media screen and (max-width:319px){.gb_Id .gb_J{display:none;visibility:hidden}}.gb_Wa{background-color:rgba(255,255,255,.88);border:1px solid #dadce0;-moz-box-sizing:border-box;-webkit-box-sizing:border-box;box-sizing:border-box;cursor:pointer;display:inline-block;max-height:48px;overflow:hidden;outline:none;padding:0;vertical-align:middle;width:134px;-webkit-border-radius:8px;-moz-border-radius:8px;border-radius:8px}.gb_Wa.gb_H{background-color:transparent;border:1px solid #5f6368}.gb_3a{display:inherit}.gb_Wa.gb_H .gb_3a{background:#fff;-webkit-border-radius:4px;-moz-border-radius:4px;border-radius:4px;display:inline-block;left:8px;margin-right:5px;position:relative;padding:3px;top:-1px}.gb_Wa:hover{border:1px solid #d2e3fc;background-color:rgba(248,250,255,.88)}.gb_Wa.gb_H:hover{background-color:rgba(241,243,244,.04);border:1px solid #5f6368}.gb_Wa:focus-visible,.gb_Wa:focus{background-color:#fff;outline:1px solid #202124;-webkit-box-shadow:0 1px 2px 0 rgba(60,64,67,.3),0 1px 3px 1px rgba(60,64,67,.15);-moz-box-shadow:0 1px 2px 0 rgba(60,64,67,.3),0 1px 3px 1px rgba(60,64,67,.15);box-shadow:0 1px 2px 0 rgba(60,64,67,.3),0 1px 3px 1px rgba(60,64,67,.15)}.gb_Wa.gb_H:focus-visible,.gb_Wa.gb_H:focus{background-color:rgba(241,243,244,.12);outline:1px solid #f1f3f4;-webkit-box-shadow:0 1px 3px 1px rgba(0,0,0,.15),0 1px 2px 0 rgba(0,0,0,.3);-moz-box-shadow:0 1px 3px 1px rgba(0,0,0,.15),0 1px 2px 0 rgba(0,0,0,.3);box-shadow:0 1px 3px 1px rgba(0,0,0,.15),0 1px 2px 0 rgba(0,0,0,.3)}.gb_Wa.gb_H:active,.gb_Wa.gb_8c.gb_H:focus{background-color:rgba(241,243,244,.1);border:1px solid #5f6368}.gb_4a{display:inline-block;padding-bottom:2px;padding-left:7px;padding-top:2px;text-align:center;vertical-align:middle;line-height:32px;width:78px}.gb_Wa.gb_H .gb_4a{line-height:26px;margin-left:0;padding-bottom:0;padding-left:0;padding-top:0;width:72px}.gb_4a.gb_5a{background-color:#f1f3f4;-webkit-border-radius:4px;-moz-border-radius:4px;border-radius:4px;margin-left:8px;padding-left:0;line-height:30px}.gb_4a.gb_5a .gb_Vc{vertical-align:middle}.gb_Fa:not(.gb_oc) .gb_Wa{margin-left:10px;margin-right:4px}.gb_9d{max-height:32px;width:78px}.gb_Wa.gb_H .gb_9d{max-height:26px;width:72px}.gb_P{-webkit-background-size:32px 32px;-o-background-size:32px 32px;background-size:32px 32px;border:0;-webkit-border-radius:50%;-moz-border-radius:50%;border-radius:50%;display:block;margin:0px;position:relative;height:32px;width:32px;z-index:0}.gb_fb{background-color:#e8f0fe;border:1px solid rgba(32,33,36,.08);position:relative}.gb_fb.gb_P{height:30px;width:30px}.gb_fb.gb_P:hover,.gb_fb.gb_P:active{-webkit-box-shadow:none;-moz-box-shadow:none;box-shadow:none}.gb_gb{background:#fff;border:none;-webkit-border-radius:50%;-moz-border-radius:50%;border-radius:50%;bottom:2px;-webkit-box-shadow:0px 1px 2px 0px rgba(60,64,67,.30),0px 1px 3px 1px rgba(60,64,67,.15);-moz-box-shadow:0px 1px 2px 0px rgba(60,64,67,.30),0px 1px 3px 1px rgba(60,64,67,.15);box-shadow:0px 1px 2px 0px rgba(60,64,67,.30),0px 1px 3px 1px rgba(60,64,67,.15);height:14px;margin:2px;position:absolute;right:0;width:14px;line-height:normal;z-index:1}.gb_hb{color:#1f71e7;font:400 22px/32px Google Sans,Roboto,Helvetica,Arial,sans-serif;text-align:center;text-transform:uppercase}@media (-webkit-min-device-pixel-ratio:1.25),(min-resolution:1.25dppx),(min-device-pixel-ratio:1.25){.gb_P::before,.gb_ib::before{display:inline-block;-webkit-transform:scale(0.5);-webkit-transform:scale(0.5);-ms-transform:scale(0.5);-o-transform:scale(0.5);transform:scale(0.5);-webkit-transform-origin:left 0;-webkit-transform-origin:left 0;-ms-transform-origin:left 0;-o-transform-origin:left 0;transform-origin:left 0}.gb_3 .gb_ib::before{-webkit-transform:scale(scale(0.416666667));-webkit-transform:scale(scale(0.416666667));-ms-transform:scale(scale(0.416666667));-o-transform:scale(scale(0.416666667));transform:scale(scale(0.416666667))}}.gb_P:hover,.gb_P:focus{-webkit-box-shadow:0 1px 0 rgba(0,0,0,.15);-moz-box-shadow:0 1px 0 rgba(0,0,0,.15);box-shadow:0 1px 0 rgba(0,0,0,.15)}.gb_P:active{-webkit-box-shadow:inset 0 2px 0 rgba(0,0,0,.15);-moz-box-shadow:inset 0 2px 0 rgba(0,0,0,.15);box-shadow:inset 0 2px 0 rgba(0,0,0,.15)}.gb_P:active::after{background:rgba(0,0,0,.1);-webkit-border-radius:50%;-moz-border-radius:50%;border-radius:50%;content:\"\";display:block;height:100%}.gb_jb{cursor:pointer;line-height:40px;min-width:30px;opacity:.75;overflow:hidden;vertical-align:middle;text-overflow:ellipsis}.gb_B.gb_jb{width:auto}.gb_jb:hover,.gb_jb:focus{opacity:.85}.gb_kb .gb_jb,.gb_kb .gb_lb{line-height:26px}#gb#gb.gb_kb a.gb_jb,.gb_kb .gb_lb{font-size:11px;height:auto}.gb_mb{border-top:4px solid #000;border-left:4px dashed transparent;border-right:4px dashed transparent;display:inline-block;margin-left:6px;opacity:.75;vertical-align:middle}.gb_Za:hover .gb_mb{opacity:.85}.gb_Wa>.gb_z{padding:3px 3px 3px 4px}.gb_nb.gb_eb{color:#fff}.gb_1 .gb_jb,.gb_1 .gb_mb{opacity:1}#gb#gb.gb_1.gb_1 a.gb_jb,#gb#gb .gb_1.gb_1 a.gb_jb{color:#fff}.gb_1.gb_1 .gb_mb{border-top-color:#fff;opacity:1}.gb_ka .gb_P:hover,.gb_1 .gb_P:hover,.gb_ka .gb_P:focus,.gb_1 .gb_P:focus{-webkit-box-shadow:0 1px 0 rgba(0,0,0,.15),0 1px 2px rgba(0,0,0,.2);-moz-box-shadow:0 1px 0 rgba(0,0,0,.15),0 1px 2px rgba(0,0,0,.2);box-shadow:0 1px 0 rgba(0,0,0,.15),0 1px 2px rgba(0,0,0,.2)}.gb_ob .gb_z,.gb_pb .gb_z{position:absolute;right:1px}.gb_z.gb_0,.gb_qb.gb_0,.gb_Za.gb_0{-webkit-flex:0 1 auto;-webkit-box-flex:0;-moz-box-flex:0;-ms-flex:0 1 auto;flex:0 1 auto}.gb_rb.gb_sb .gb_jb{width:30px!important}.gb_tb{height:40px;position:absolute;right:-5px;top:-5px;width:40px}.gb_ub .gb_tb,.gb_vb .gb_tb{right:0;top:0}.gb_z .gb_B{padding:4px}.gb_S{display:none}sentinel{}</style><script nonce=\"mL0xr1RZ/ldLtc36ki5rZA==\">;this.gbar_={CONFIG:[[[0,\"www.gstatic.com\",\"og.qtm.en_US.3ZTI1xChNoc.es5.O\",\"com\",\"en\",\"425\",0,[4,2,\"\",\"\",\"\",\"804219421\",\"0\"],null,\"XTDAaNzPJ7mTwN4P35WUgAU\",null,0,\"og.qtm.KPskb7nqM7Q.L.X.O\",\"AA2YrTs9UMgwBTmLytVhlrjaFfCNmqwfIA\",\"AA2YrTtWS5-KGJeFPOpejSh8vbeZp-dFgw\",\"\",2,1,200,\"USA\",null,null,\"425\",\"425\",1,null,null,114591953,null,0,0],null,[1,0.1000000014901161,2,1],null,[0,0,0,null,\"\",\"\",\"\",\"\",0,0,null,\"\"],[0,0,\"\",1,0,0,0,0,0,0,null,0,0,null,0,0,null,null,0,0,0,\"\",\"\",\"\",\"\",\"\",\"\",null,0,0,0,0,0,null,null,null,\"rgba(32,33,36,1)\",\"rgba(255,255,255,1)\",0,0,0,null,null,null,0],null,null,[\"1\",\"gci_91f30755d6a6b787dcc2a4062e6e9824.js\",\"googleapis.client:gapi.iframes\",\"\",\"en\"],null,null,null,null,[\"m;/_/scs/abc-static/_/js/k=gapi.gapi.en.GJa4oir6WlA.O/d=1/rs=AHpOoo-oT18V72om9ubISB9Na8GvbQT5cg/m=__features__\",\"https://apis.google.com\",\"\",\"\",\"\",\"\",null,1,\"es_plusone_gc_20250803.0_p0\",\"en\",null,0],[0.009999999776482582,\"com\",\"425\",[null,\"\",\"0\",null,1,5184000,null,null,\"\",null,null,null,null,null,0,null,0,null,1,0,0,0,null,null,0,0,null,0,0,0,0,0],null,null,null,0],[1,null,null,27043,425,\"USA\",\"en\",\"804219421.0\",8,null,0,0,null,null,null,null,\"\",null,null,null,\"XTDAaNzPJ7mTwN4P35WUgAU\",0,0,0,null,2,5,\"nn\",178,0,0,null,null,1,114591953,0,0],[[null,null,null,\"https://www.gstatic.com/og/_/js/k=og.qtm.en_US.3ZTI1xChNoc.es5.O/rt=j/m=qabr,q_dnp,qapid,qads,q_dg/exm=qaaw,qadd,qaid,qein,qhaw,qhba,qhbr,qhch,qhga,qhid,qhin/d=1/ed=1/rs=AA2YrTs9UMgwBTmLytVhlrjaFfCNmqwfIA\"]]]],};this.gbar_=this.gbar_||{};(function(_){var window=this;', 'try{', '_._F_toggles_initialize=function(a){(typeof globalThis!==\"undefined\"?globalThis:typeof self!==\"undefined\"?self:this)._F_toggles_gbar_=a||[]};(0,_._F_toggles_initialize)([]);', '/*', '', 'Copyright The Closure Library Authors.', 'SPDX-License-Identifier: Apache-2.0', '*/', 'var ia,oa,qa,ua,wa,xa,Ka,La,eb,hb,jb,pb,lb,rb,wb,Jb,Kb,Lb,Mb,z,Tb,Ub,Vb;_.aa=function(a,b){if(Error.captureStackTrace)Error.captureStackTrace(this,_.aa);else{var c=Error().stack;c&&(this.stack=c)}a&&(this.message=String(a));b!==void 0&&(this.cause=b)};_.ba=function(a){a.Jm=!0;return a};', '_.ha=function(a){var b=a;if(ca(b)){if(!/^\\\\s*(?:-?[1-9]\\\\d*|0)?\\\\s*$/.test(b))throw Error(String(b));}else if(da(b)&&!Number.isSafeInteger(b))throw Error(String(b));return ea?BigInt(a):a=fa(a)?a?\"1\":\"0\":ca(a)?a.trim()||\"0\":String(a)};ia=function(a,b){if(a.length>b.length)return!1;if(a.length<b.length||a===b)return!0;for(var c=0;c<a.length;c++){var d=a[c],e=b[c];if(d>e)return!1;if(d<e)return!0}};_.ja=function(a){_.t.setTimeout(function(){throw a;},0)};', '_.la=function(){return _.ka().toLowerCase().indexOf(\"webkit\")!=-1};_.ka=function(){var a=_.t.navigator;return a&&(a=a.userAgent)?a:\"\"};oa=function(a){if(!ma||!na)return!1;for(var b=0;b<na.brands.length;b++){var c=na.brands[b].brand;if(c&&c.indexOf(a)!=-1)return!0}return!1};_.pa=function(a){return _.ka().indexOf(a)!=-1};qa=function(){return ma?!!na&&na.brands.length>0:!1};_.ra=function(){return qa()?!1:_.pa(\"Opera\")};_.sa=function(){return qa()?!1:_.pa(\"Trident\")||_.pa(\"MSIE\")};', '_.ta=function(){return _.pa(\"Firefox\")||_.pa(\"FxiOS\")};_.va=function(){return _.pa(\"Safari\")&&!(ua()||(qa()?0:_.pa(\"Coast\"))||_.ra()||(qa()?0:_.pa(\"Edge\"))||(qa()?oa(\"Microsoft Edge\"):_.pa(\"Edg/\"))||(qa()?oa(\"Opera\"):_.pa(\"OPR\"))||_.ta()||_.pa(\"Silk\")||_.pa(\"Android\"))};ua=function(){return qa()?oa(\"Chromium\"):(_.pa(\"Chrome\")||_.pa(\"CriOS\"))&&!(qa()?0:_.pa(\"Edge\"))||_.pa(\"Silk\")};wa=function(){return ma?!!na&&!!na.platform:!1};xa=function(){return _.pa(\"iPhone\")&&!_.pa(\"iPod\")&&!_.pa(\"iPad\")};', '_.ya=function(){return xa()||_.pa(\"iPad\")||_.pa(\"iPod\")};_.za=function(){return wa()?na.platform===\"macOS\":_.pa(\"Macintosh\")};_.Ba=function(a,b){return(0,_.Aa)(a,b)>=0};_.Ca=function(a,b,c){return typeof Symbol===\"function\"&&typeof Symbol()===\"symbol\"?(c===void 0?0:c)&&Symbol.for&&a?Symbol.for(a):a!=null?Symbol(a):Symbol():b};_.Ga=function(a,b){_.Da||_.v in a||Ea(a,Fa);a[_.v]|=b};_.Ha=function(a,b){_.Da||_.v in a||Ea(a,Fa);a[_.v]=b};', '_.Ja=function(a,b){return b===void 0?a.j!==Ia&&!!(2&(a.J[_.v]|0)):!!(2&b)&&a.j!==Ia};Ka=function(a){return a};La=function(a,b){a.__closure__error__context__984382||(a.__closure__error__context__984382={});a.__closure__error__context__984382.severity=b};_.Ma=function(a){a=Error(a);La(a,\"warning\");return a};_.Oa=function(a,b){if(a!=null){var c;var d=(c=Na)!=null?c:Na={};c=d[a]||0;c>=b||(d[a]=c+1,a=Error(),La(a,\"incident\"),_.ja(a))}};', '_.Qa=function(a){if(typeof a!==\"boolean\")throw Error(\"y`\"+_.Pa(a)+\"`\"+a);return a};_.Ra=function(a){if(a==null||typeof a===\"boolean\")return a;if(typeof a===\"number\")return!!a};_.Ta=function(a){if(!(0,_.Sa)(a))throw _.Ma(\"enum\");return a|0};_.Ua=function(a){return a==null?a:(0,_.Sa)(a)?a|0:void 0};_.Va=function(a){if(typeof a!==\"number\")throw _.Ma(\"int32\");if(!(0,_.Sa)(a))throw _.Ma(\"int32\");return a|0};_.Wa=function(a){if(a!=null&&typeof a!==\"string\")throw Error();return a};', '_.Xa=function(a){return a==null||typeof a===\"string\"?a:void 0};_.$a=function(a,b,c){if(a!=null&&a[_.Ya]===_.Za)return a;if(Array.isArray(a)){var d=a[_.v]|0;c=d|c&32|c&2;c!==d&&_.Ha(a,c);return new b(a)}};_.cb=function(a){var b=_.ab(_.bb);return b?a[b]:void 0};eb=function(a,b){b<100||_.Oa(db,1)};', 'hb=function(a,b,c,d){var e=d!==void 0;d=!!d;var f=_.ab(_.bb),g;!e&&_.Da&&f&&(g=a[f])&&g.Id(eb);f=[];var h=a.length;g=4294967295;var k=!1,m=!!(b&64),n=m?b&128?0:-1:void 0;if(!(b&1)){var p=h&&a[h-1];p!=null&&typeof p===\"object\"&&p.constructor===Object?(h--,g=h):p=void 0;if(m&&!(b&128)&&!e){k=!0;var q;g=((q=fb)!=null?q:Ka)(g-n,n,a,p,void 0)+n}}b=void 0;for(q=0;q<h;q++){var r=a[q];if(r!=null&&(r=c(r,d))!=null)if(m&&q>=g){var u=q-n,w=void 0;((w=b)!=null?w:b={})[u]=r}else f[q]=r}if(p)for(var A in p)h=p[A],', 'h!=null&&(h=c(h,d))!=null&&(q=+A,r=void 0,m&&!Number.isNaN(q)&&(r=q+n)<g?f[r]=h:(q=void 0,((q=b)!=null?q:b={})[A]=h));b&&(k?f.push(b):f[g]=b);e&&_.ab(_.bb)&&(a=_.cb(a))&&\"function\"==typeof _.gb&&a instanceof _.gb&&(f[_.bb]=a.i());return f};', 'jb=function(a){switch(typeof a){case \"number\":return Number.isFinite(a)?a:\"\"+a;case \"bigint\":return(0,_.ib)(a)?Number(a):\"\"+a;case \"boolean\":return a?1:0;case \"object\":if(Array.isArray(a)){var b=a[_.v]|0;return a.length===0&&b&1?void 0:hb(a,b,jb)}if(a!=null&&a[_.Ya]===_.Za)return lb(a);if(\"function\"==typeof _.mb&&a instanceof _.mb)return a.j();return}return a};pb=function(a,b){if(b){fb=b==null||b===Ka||b[nb]!==ob?Ka:b;try{return lb(a)}finally{fb=void 0}}return lb(a)};', 'lb=function(a){a=a.J;return hb(a,a[_.v]|0,jb)};', '_.x=function(a,b,c,d){d=d===void 0?0:d;if(a==null){var e=32;c?(a=[c],e|=128):a=[];b&&(e=e&-8380417|(b&1023)<<13)}else{if(!Array.isArray(a))throw Error(\"z\");e=a[_.v]|0;if(qb&&1&e)throw Error(\"A\");2048&e&&!(2&e)&&rb();if(e&256)throw Error(\"B\");if(e&64)return d!==0||e&2048||_.Ha(a,e|2048),a;if(c&&(e|=128,c!==a[0]))throw Error(\"C\");a:{c=a;e|=64;var f=c.length;if(f){var g=f-1,h=c[g];if(h!=null&&typeof h===\"object\"&&h.constructor===Object){b=e&128?0:-1;g-=b;if(g>=1024)throw Error(\"E\");for(var k in h)f=', '+k,f<g&&(c[f+b]=h[k],delete h[k]);e=e&-8380417|(g&1023)<<13;break a}}if(b){k=Math.max(b,f-(e&128?0:-1));if(k>1024)throw Error(\"F\");e=e&-8380417|(k&1023)<<13}}}e|=64;d===0&&(e|=2048);_.Ha(a,e);return a};rb=function(){if(qb)throw Error(\"D\");_.Oa(sb,5)};', 'wb=function(a,b){if(typeof a!==\"object\")return a;if(Array.isArray(a)){var c=a[_.v]|0;a.length===0&&c&1?a=void 0:c&2||(!b||4096&c||16&c?a=_.tb(a,c,!1,b&&!(c&16)):(_.Ga(a,34),c&4&&Object.freeze(a)));return a}if(a!=null&&a[_.Ya]===_.Za)return b=a.J,c=b[_.v]|0,_.Ja(a,c)?a:_.ub(a,b,c)?_.vb(a,b):_.tb(b,c);if(\"function\"==typeof _.mb&&a instanceof _.mb)return a};_.vb=function(a,b,c){a=new a.constructor(b);c&&(a.j=Ia);a.o=Ia;return a};', '_.tb=function(a,b,c,d){d!=null||(d=!!(34&b));a=hb(a,b,wb,d);d=32;c&&(d|=2);b=b&8380609|d;_.Ha(a,b);return a};_.xb=function(a){var b=a.J,c=b[_.v]|0;return _.Ja(a,c)?_.ub(a,b,c)?_.vb(a,b,!0):new a.constructor(_.tb(b,c,!1)):a};_.zb=function(a){if(a.j!==Ia)return!1;var b=a.J;b=_.tb(b,b[_.v]|0);_.Ga(b,2048);a.J=b;a.j=void 0;a.o=void 0;return!0};_.Ab=function(a){if(!_.zb(a)&&_.Ja(a,a.J[_.v]|0))throw Error();};_.Bb=function(a,b){b===void 0&&(b=a[_.v]|0);b&32&&!(b&4096)&&_.Ha(a,b|4096)};', '_.ub=function(a,b,c){return c&2?!0:c&32&&!(c&4096)?(_.Ha(b,c|2),a.j=Ia,!0):!1};_.Cb=function(a,b,c,d,e){var f=c+(e?0:-1),g=a.length-1;if(g>=1+(e?0:-1)&&f>=g){var h=a[g];if(h!=null&&typeof h===\"object\"&&h.constructor===Object)return h[c]=d,b}if(f<=g)return a[f]=d,b;if(d!==void 0){var k;g=((k=b)!=null?k:b=a[_.v]|0)>>13&1023||536870912;c>=g?d!=null&&(f={},a[g+(e?0:-1)]=(f[c]=d,f)):a[f]=d}return b};', '_.Eb=function(a,b,c,d,e){var f=!1;d=_.Db(a,d,e,function(g){var h=_.$a(g,c,b);f=h!==g&&h!=null;return h});if(d!=null)return f&&!_.Ja(d)&&_.Bb(a,b),d};_.Fb=function(){var a=function(){throw Error();};Object.setPrototypeOf(a,a.prototype);return a};_.Gb=function(a,b){return a!=null?!!a:!!b};_.y=function(a,b){b==void 0&&(b=\"\");return a!=null?a:b};_.Hb=function(a,b,c){for(var d in a)b.call(c,a[d],d,a)};_.Ib=function(a){for(var b in a)return!1;return!0};', 'Jb=function(a){var b=0;return function(){return b<a.length?{done:!1,value:a[b++]}:{done:!0}}};Kb=typeof Object.defineProperties==\"function\"?Object.defineProperty:function(a,b,c){if(a==Array.prototype||a==Object.prototype)return a;a[b]=c.value;return a};Lb=function(a){a=[\"object\"==typeof globalThis&&globalThis,a,\"object\"==typeof window&&window,\"object\"==typeof self&&self,\"object\"==typeof global&&global];for(var b=0;b<a.length;++b){var c=a[b];if(c&&c.Math==Math)return c}throw Error(\"a\");};Mb=Lb(this);', 'z=function(a,b){if(b)a:{var c=Mb;a=a.split(\".\");for(var d=0;d<a.length-1;d++){var e=a[d];if(!(e in c))break a;c=c[e]}a=a[a.length-1];d=c[a];b=b(d);b!=d&&b!=null&&Kb(c,a,{configurable:!0,writable:!0,value:b})}};', 'z(\"Symbol\",function(a){if(a)return a;var b=function(f,g){this.i=f;Kb(this,\"description\",{configurable:!0,writable:!0,value:g})};b.prototype.toString=function(){return this.i};var c=\"jscomp_symbol_\"+(Math.random()*1E9>>>0)+\"_\",d=0,e=function(f){if(this instanceof e)throw new TypeError(\"b\");return new b(c+(f||\"\")+\"_\"+d++,f)};return e});', 'z(\"Symbol.iterator\",function(a){if(a)return a;a=Symbol(\"c\");for(var b=\"Array Int8Array Uint8Array Uint8ClampedArray Int16Array Uint16Array Int32Array Uint32Array Float32Array Float64Array\".split(\" \"),c=0;c<b.length;c++){var d=Mb[b[c]];typeof d===\"function\"&&typeof d.prototype[a]!=\"function\"&&Kb(d.prototype,a,{configurable:!0,writable:!0,value:function(){return Nb(Jb(this))}})}return a});', 'var Nb=function(a){a={next:a};a[Symbol.iterator]=function(){return this};return a},Ob=typeof Object.create==\"function\"?Object.create:function(a){var b=function(){};b.prototype=a;return new b},Pb;if(typeof Object.setPrototypeOf==\"function\")Pb=Object.setPrototypeOf;else{var Qb;a:{var Rb={a:!0},Sb={};try{Sb.__proto__=Rb;Qb=Sb.a;break a}catch(a){}Qb=!1}Pb=Qb?function(a,b){a.__proto__=b;if(a.__proto__!==b)throw new TypeError(\"d`\"+a);return a}:null}Tb=Pb;', '_.B=function(a,b){a.prototype=Ob(b.prototype);a.prototype.constructor=a;if(Tb)Tb(a,b);else for(var c in b)if(c!=\"prototype\")if(Object.defineProperties){var d=Object.getOwnPropertyDescriptor(b,c);d&&Object.defineProperty(a,c,d)}else a[c]=b[c];a.X=b.prototype};_.C=function(a){var b=typeof Symbol!=\"undefined\"&&Symbol.iterator&&a[Symbol.iterator];if(b)return b.call(a);if(typeof a.length==\"number\")return{next:Jb(a)};throw Error(\"e`\"+String(a));};', 'Ub=function(a,b){return Object.prototype.hasOwnProperty.call(a,b)};Vb=typeof Object.assign==\"function\"?Object.assign:function(a,b){if(a==null)throw new TypeError(\"f\");a=Object(a);for(var c=1;c<arguments.length;c++){var d=arguments[c];if(d)for(var e in d)Ub(d,e)&&(a[e]=d[e])}return a};z(\"Object.assign\",function(a){return a||Vb});z(\"globalThis\",function(a){return a||Mb});z(\"Reflect.setPrototypeOf\",function(a){return a?a:Tb?function(b,c){try{return Tb(b,c),!0}catch(d){return!1}}:null});', 'z(\"Promise\",function(a){function b(){this.i=null}function c(g){return g instanceof e?g:new e(function(h){h(g)})}if(a)return a;b.prototype.j=function(g){if(this.i==null){this.i=[];var h=this;this.o(function(){h.A()})}this.i.push(g)};var d=Mb.setTimeout;b.prototype.o=function(g){d(g,0)};b.prototype.A=function(){for(;this.i&&this.i.length;){var g=this.i;this.i=[];for(var h=0;h<g.length;++h){var k=g[h];g[h]=null;try{k()}catch(m){this.v(m)}}}this.i=null};b.prototype.v=function(g){this.o(function(){throw g;', '})};var e=function(g){this.i=0;this.o=void 0;this.j=[];this.C=!1;var h=this.v();try{g(h.resolve,h.reject)}catch(k){h.reject(k)}};e.prototype.v=function(){function g(m){return function(n){k||(k=!0,m.call(h,n))}}var h=this,k=!1;return{resolve:g(this.Y),reject:g(this.A)}};e.prototype.Y=function(g){if(g===this)this.A(new TypeError(\"i\"));else if(g instanceof e)this.M(g);else{a:switch(typeof g){case \"object\":var h=g!=null;break a;case \"function\":h=!0;break a;default:h=!1}h?this.K(g):this.B(g)}};e.prototype.K=', 'function(g){var h=void 0;try{h=g.then}catch(k){this.A(k);return}typeof h==\"function\"?this.N(h,g):this.B(g)};e.prototype.A=function(g){this.D(2,g)};e.prototype.B=function(g){this.D(1,g)};e.prototype.D=function(g,h){if(this.i!=0)throw Error(\"j`\"+g+\"`\"+h+\"`\"+this.i);this.i=g;this.o=h;this.i===2&&this.L();this.F()};e.prototype.L=function(){var g=this;d(function(){if(g.G()){var h=Mb.console;typeof h!==\"undefined\"&&h.error(g.o)}},1)};e.prototype.G=function(){if(this.C)return!1;var g=Mb.CustomEvent,h=Mb.Event,', 'k=Mb.dispatchEvent;if(typeof k===\"undefined\")return!0;typeof g===\"function\"?g=new g(\"unhandledrejection\",{cancelable:!0}):typeof h===\"function\"?g=new h(\"unhandledrejection\",{cancelable:!0}):(g=Mb.document.createEvent(\"CustomEvent\"),g.initCustomEvent(\"unhandledrejection\",!1,!0,g));g.promise=this;g.reason=this.o;return k(g)};e.prototype.F=function(){if(this.j!=null){for(var g=0;g<this.j.length;++g)f.j(this.j[g]);this.j=null}};var f=new b;e.prototype.M=function(g){var h=this.v();g.Gd(h.resolve,h.reject)};', 'e.prototype.N=function(g,h){var k=this.v();try{g.call(h,k.resolve,k.reject)}catch(m){k.reject(m)}};e.prototype.then=function(g,h){function k(q,r){return typeof q==\"function\"?function(u){try{m(q(u))}catch(w){n(w)}}:r}var m,n,p=new e(function(q,r){m=q;n=r});this.Gd(k(g,m),k(h,n));return p};e.prototype.catch=function(g){return this.then(void 0,g)};e.prototype.Gd=function(g,h){function k(){switch(m.i){case 1:g(m.o);break;case 2:h(m.o);break;default:throw Error(\"k`\"+m.i);}}var m=this;this.j==null?f.j(k):', 'this.j.push(k);this.C=!0};e.resolve=c;e.reject=function(g){return new e(function(h,k){k(g)})};e.race=function(g){return new e(function(h,k){for(var m=_.C(g),n=m.next();!n.done;n=m.next())c(n.value).Gd(h,k)})};e.all=function(g){var h=_.C(g),k=h.next();return k.done?c([]):new e(function(m,n){function p(u){return function(w){q[u]=w;r--;r==0&&m(q)}}var q=[],r=0;do q.push(void 0),r++,c(k.value).Gd(p(q.length-1),n),k=h.next();while(!k.done)})};return e});', 'var Wb=function(a,b,c){if(a==null)throw new TypeError(\"l`\"+c);if(b instanceof RegExp)throw new TypeError(\"m`\"+c);return a+\"\"};z(\"String.prototype.startsWith\",function(a){return a?a:function(b,c){var d=Wb(this,b,\"startsWith\"),e=d.length,f=b.length;c=Math.max(0,Math.min(c|0,d.length));for(var g=0;g<f&&c<e;)if(d[c++]!=b[g++])return!1;return g>=f}});z(\"Object.setPrototypeOf\",function(a){return a||Tb});z(\"Symbol.dispose\",function(a){return a?a:Symbol(\"n\")});', 'z(\"WeakMap\",function(a){function b(){}function c(k){var m=typeof k;return m===\"object\"&&k!==null||m===\"function\"}function d(k){if(!Ub(k,f)){var m=new b;Kb(k,f,{value:m})}}function e(k){var m=Object[k];m&&(Object[k]=function(n){if(n instanceof b)return n;Object.isExtensible(n)&&d(n);return m(n)})}if(function(){if(!a||!Object.seal)return!1;try{var k=Object.seal({}),m=Object.seal({}),n=new a([[k,2],[m,3]]);if(n.get(k)!=2||n.get(m)!=3)return!1;n.delete(k);n.set(m,4);return!n.has(k)&&n.get(m)==4}catch(p){return!1}}())return a;', 'var f=\"$jscomp_hidden_\"+Math.random();e(\"freeze\");e(\"preventExtensions\");e(\"seal\");var g=0,h=function(k){this.i=(g+=Math.random()+1).toString();if(k){k=_.C(k);for(var m;!(m=k.next()).done;)m=m.value,this.set(m[0],m[1])}};h.prototype.set=function(k,m){if(!c(k))throw Error(\"o\");d(k);if(!Ub(k,f))throw Error(\"p`\"+k);k[f][this.i]=m;return this};h.prototype.get=function(k){return c(k)&&Ub(k,f)?k[f][this.i]:void 0};h.prototype.has=function(k){return c(k)&&Ub(k,f)&&Ub(k[f],this.i)};h.prototype.delete=function(k){return c(k)&&', 'Ub(k,f)&&Ub(k[f],this.i)?delete k[f][this.i]:!1};return h});', 'z(\"Map\",function(a){if(function(){if(!a||typeof a!=\"function\"||!a.prototype.entries||typeof Object.seal!=\"function\")return!1;try{var h=Object.seal({x:4}),k=new a(_.C([[h,\"s\"]]));if(k.get(h)!=\"s\"||k.size!=1||k.get({x:4})||k.set({x:4},\"t\")!=k||k.size!=2)return!1;var m=k.entries(),n=m.next();if(n.done||n.value[0]!=h||n.value[1]!=\"s\")return!1;n=m.next();return n.done||n.value[0].x!=4||n.value[1]!=\"t\"||!m.next().done?!1:!0}catch(p){return!1}}())return a;var b=new WeakMap,c=function(h){this[0]={};this[1]=', 'f();this.size=0;if(h){h=_.C(h);for(var k;!(k=h.next()).done;)k=k.value,this.set(k[0],k[1])}};c.prototype.set=function(h,k){h=h===0?0:h;var m=d(this,h);m.list||(m.list=this[0][m.id]=[]);m.entry?m.entry.value=k:(m.entry={next:this[1],ub:this[1].ub,head:this[1],key:h,value:k},m.list.push(m.entry),this[1].ub.next=m.entry,this[1].ub=m.entry,this.size++);return this};c.prototype.delete=function(h){h=d(this,h);return h.entry&&h.list?(h.list.splice(h.index,1),h.list.length||delete this[0][h.id],h.entry.ub.next=', 'h.entry.next,h.entry.next.ub=h.entry.ub,h.entry.head=null,this.size--,!0):!1};c.prototype.clear=function(){this[0]={};this[1]=this[1].ub=f();this.size=0};c.prototype.has=function(h){return!!d(this,h).entry};c.prototype.get=function(h){return(h=d(this,h).entry)&&h.value};c.prototype.entries=function(){return e(this,function(h){return[h.key,h.value]})};c.prototype.keys=function(){return e(this,function(h){return h.key})};c.prototype.values=function(){return e(this,function(h){return h.value})};c.prototype.forEach=', 'function(h,k){for(var m=this.entries(),n;!(n=m.next()).done;)n=n.value,h.call(k,n[1],n[0],this)};c.prototype[Symbol.iterator]=c.prototype.entries;var d=function(h,k){var m=k&&typeof k;m==\"object\"||m==\"function\"?b.has(k)?m=b.get(k):(m=\"\"+ ++g,b.set(k,m)):m=\"p_\"+k;var n=h[0][m];if(n&&Ub(h[0],m))for(h=0;h<n.length;h++){var p=n[h];if(k!==k&&p.key!==p.key||k===p.key)return{id:m,list:n,index:h,entry:p}}return{id:m,list:n,index:-1,entry:void 0}},e=function(h,k){var m=h[1];return Nb(function(){if(m){for(;m.head!=', 'h[1];)m=m.ub;for(;m.next!=m.head;)return m=m.next,{done:!1,value:k(m)};m=null}return{done:!0,value:void 0}})},f=function(){var h={};return h.ub=h.next=h.head=h},g=0;return c});', 'z(\"Set\",function(a){if(function(){if(!a||typeof a!=\"function\"||!a.prototype.entries||typeof Object.seal!=\"function\")return!1;try{var c=Object.seal({x:4}),d=new a(_.C([c]));if(!d.has(c)||d.size!=1||d.add(c)!=d||d.size!=1||d.add({x:4})!=d||d.size!=2)return!1;var e=d.entries(),f=e.next();if(f.done||f.value[0]!=c||f.value[1]!=c)return!1;f=e.next();return f.done||f.value[0]==c||f.value[0].x!=4||f.value[1]!=f.value[0]?!1:e.next().done}catch(g){return!1}}())return a;var b=function(c){this.i=new Map;if(c){c=', '_.C(c);for(var d;!(d=c.next()).done;)this.add(d.value)}this.size=this.i.size};b.prototype.add=function(c){c=c===0?0:c;this.i.set(c,c);this.size=this.i.size;return this};b.prototype.delete=function(c){c=this.i.delete(c);this.size=this.i.size;return c};b.prototype.clear=function(){this.i.clear();this.size=0};b.prototype.has=function(c){return this.i.has(c)};b.prototype.entries=function(){return this.i.entries()};b.prototype.values=function(){return this.i.values()};b.prototype.keys=b.prototype.values;', 'b.prototype[Symbol.iterator]=b.prototype.values;b.prototype.forEach=function(c,d){var e=this;this.i.forEach(function(f){return c.call(d,f,f,e)})};return b});z(\"Array.from\",function(a){return a?a:function(b,c,d){c=c!=null?c:function(h){return h};var e=[],f=typeof Symbol!=\"undefined\"&&Symbol.iterator&&b[Symbol.iterator];if(typeof f==\"function\"){b=f.call(b);for(var g=0;!(f=b.next()).done;)e.push(c.call(d,f.value,g++))}else for(f=b.length,g=0;g<f;g++)e.push(c.call(d,b[g],g));return e}});', 'z(\"Object.entries\",function(a){return a?a:function(b){var c=[],d;for(d in b)Ub(b,d)&&c.push([d,b[d]]);return c}});z(\"Number.isFinite\",function(a){return a?a:function(b){return typeof b!==\"number\"?!1:!isNaN(b)&&b!==Infinity&&b!==-Infinity}});z(\"Number.MAX_SAFE_INTEGER\",function(){return 9007199254740991});z(\"Number.MIN_SAFE_INTEGER\",function(){return-9007199254740991});z(\"Number.isInteger\",function(a){return a?a:function(b){return Number.isFinite(b)?b===Math.floor(b):!1}});', 'z(\"Number.isSafeInteger\",function(a){return a?a:function(b){return Number.isInteger(b)&&Math.abs(b)<=Number.MAX_SAFE_INTEGER}});z(\"Object.is\",function(a){return a?a:function(b,c){return b===c?b!==0||1/b===1/c:b!==b&&c!==c}});z(\"Array.prototype.includes\",function(a){return a?a:function(b,c){var d=this;d instanceof String&&(d=String(d));var e=d.length;c=c||0;for(c<0&&(c=Math.max(c+e,0));c<e;c++){var f=d[c];if(f===b||Object.is(f,b))return!0}return!1}});', 'z(\"String.prototype.includes\",function(a){return a?a:function(b,c){return Wb(this,b,\"includes\").indexOf(b,c||0)!==-1}});var Xb=function(a,b){a instanceof String&&(a+=\"\");var c=0,d=!1,e={next:function(){if(!d&&c<a.length){var f=c++;return{value:b(f,a[f]),done:!1}}d=!0;return{done:!0,value:void 0}}};e[Symbol.iterator]=function(){return e};return e};z(\"Array.prototype.entries\",function(a){return a?a:function(){return Xb(this,function(b,c){return[b,c]})}});', 'z(\"Math.trunc\",function(a){return a?a:function(b){b=Number(b);if(isNaN(b)||b===Infinity||b===-Infinity||b===0)return b;var c=Math.floor(Math.abs(b));return b<0?-c:c}});z(\"Array.prototype.find\",function(a){return a?a:function(b,c){a:{var d=this;d instanceof String&&(d=String(d));for(var e=d.length,f=0;f<e;f++){var g=d[f];if(b.call(c,g,f,d)){b=g;break a}}b=void 0}return b}});z(\"Object.values\",function(a){return a?a:function(b){var c=[],d;for(d in b)Ub(b,d)&&c.push(b[d]);return c}});', 'z(\"Number.isNaN\",function(a){return a?a:function(b){return typeof b===\"number\"&&isNaN(b)}});z(\"Array.prototype.keys\",function(a){return a?a:function(){return Xb(this,function(b){return b})}});z(\"Array.prototype.values\",function(a){return a?a:function(){return Xb(this,function(b,c){return c})}});z(\"Array.prototype.fill\",function(a){return a?a:function(b,c,d){var e=this.length||0;c<0&&(c=Math.max(0,e+c));if(d==null||d>e)d=e;d=Number(d);d<0&&(d=Math.max(0,e+d));for(c=Number(c||0);c<d;c++)this[c]=b;return this}});', 'var Yb=function(a){return a?a:Array.prototype.fill};z(\"Int8Array.prototype.fill\",Yb);z(\"Uint8Array.prototype.fill\",Yb);z(\"Uint8ClampedArray.prototype.fill\",Yb);z(\"Int16Array.prototype.fill\",Yb);z(\"Uint16Array.prototype.fill\",Yb);z(\"Int32Array.prototype.fill\",Yb);z(\"Uint32Array.prototype.fill\",Yb);z(\"Float32Array.prototype.fill\",Yb);z(\"Float64Array.prototype.fill\",Yb);', 'z(\"Promise.prototype.finally\",function(a){return a?a:function(b){return this.then(function(c){return Promise.resolve(b()).then(function(){return c})},function(c){return Promise.resolve(b()).then(function(){throw c;})})}});z(\"Array.prototype.flat\",function(a){return a?a:function(b){b=b===void 0?1:b;var c=[];Array.prototype.forEach.call(this,function(d){Array.isArray(d)&&b>0?(d=Array.prototype.flat.call(d,b-1),c.push.apply(c,d)):c.push(d)});return c}});var ac,bc,ec,fc;_.Zb=_.Zb||{};_.t=this||self;ac=function(a,b){var c=_.$b(\"WIZ_global_data.oxN3nb\");a=c&&c[a];return a!=null?a:b};bc=_.t._F_toggles_gbar_||[];_.$b=function(a,b){a=a.split(\".\");b=b||_.t;for(var c=0;c<a.length;c++)if(b=b[a[c]],b==null)return null;return b};_.Pa=function(a){var b=typeof a;return b!=\"object\"?b:a?Array.isArray(a)?\"array\":b:\"null\"};_.cc=function(a){var b=typeof a;return b==\"object\"&&a!=null||b==\"function\"};_.dc=\"closure_uid_\"+(Math.random()*1E9>>>0);', 'ec=function(a,b,c){return a.call.apply(a.bind,arguments)};fc=function(a,b,c){if(!a)throw Error();if(arguments.length>2){var d=Array.prototype.slice.call(arguments,2);return function(){var e=Array.prototype.slice.call(arguments);Array.prototype.unshift.apply(e,d);return a.apply(b,e)}}return function(){return a.apply(b,arguments)}};_.D=function(a,b,c){_.D=Function.prototype.bind&&Function.prototype.bind.toString().indexOf(\"native code\")!=-1?ec:fc;return _.D.apply(null,arguments)};', '_.hc=function(a,b){var c=Array.prototype.slice.call(arguments,1);return function(){var d=c.slice();d.push.apply(d,arguments);return a.apply(this,d)}};_.F=function(a,b){a=a.split(\".\");for(var c=_.t,d;a.length&&(d=a.shift());)a.length||b===void 0?c[d]&&c[d]!==Object.prototype[d]?c=c[d]:c=c[d]={}:c[d]=b};_.ab=function(a){return a};', '_.H=function(a,b){function c(){}c.prototype=b.prototype;a.X=b.prototype;a.prototype=new c;a.prototype.constructor=a;a.Am=function(d,e,f){for(var g=Array(arguments.length-2),h=2;h<arguments.length;h++)g[h-2]=arguments[h];return b.prototype[e].apply(d,g)}};_.H(_.aa,Error);_.aa.prototype.name=\"CustomError\";var ic=!!(bc[0]>>15&1),jc=!!(bc[0]&1024),kc=!!(bc[0]>>16&1),lc=!!(bc[0]&128);var mc=ac(1,!0),ma=ic?kc:ac(610401301,!1),qb=ic?jc||!lc:ac(748402147,mc);_.nc=_.ba(function(a){return a!==null&&a!==void 0});var da=_.ba(function(a){return typeof a===\"number\"}),ca=_.ba(function(a){return typeof a===\"string\"}),fa=_.ba(function(a){return typeof a===\"boolean\"});var ea=typeof _.t.BigInt===\"function\"&&typeof _.t.BigInt(0)===\"bigint\";var rc,oc,sc,pc;_.ib=_.ba(function(a){return ea?a>=oc&&a<=pc:a[0]===\"-\"?ia(a,rc):ia(a,sc)});rc=Number.MIN_SAFE_INTEGER.toString();oc=ea?BigInt(Number.MIN_SAFE_INTEGER):void 0;sc=Number.MAX_SAFE_INTEGER.toString();pc=ea?BigInt(Number.MAX_SAFE_INTEGER):void 0;_.tc=typeof Uint8Array.prototype.slice===\"function\";_.vc=typeof TextDecoder!==\"undefined\";_.wc=typeof String.prototype.isWellFormed===\"function\";_.xc=typeof TextEncoder!==\"undefined\";_.yc=String.prototype.trim?function(a){return a.trim()}:function(a){return/^[\\\\s\\\\xa0]*([\\\\s\\\\S]*?)[\\\\s\\\\xa0]*$/.exec(a)[1]};var na,zc=_.t.navigator;na=zc?zc.userAgentData||null:null;_.Aa=Array.prototype.indexOf?function(a,b){return Array.prototype.indexOf.call(a,b,void 0)}:function(a,b){if(typeof a===\"string\")return typeof b!==\"string\"||b.length!=1?-1:a.indexOf(b,0);for(var c=0;c<a.length;c++)if(c in a&&a[c]===b)return c;return-1};_.Ac=Array.prototype.forEach?function(a,b,c){Array.prototype.forEach.call(a,b,c)}:function(a,b,c){for(var d=a.length,e=typeof a===\"string\"?a.split(\"\"):a,f=0;f<d;f++)f in e&&b.call(c,e[f],f,a)};', '_.Bc=Array.prototype.filter?function(a,b,c){return Array.prototype.filter.call(a,b,c)}:function(a,b,c){for(var d=a.length,e=[],f=0,g=typeof a===\"string\"?a.split(\"\"):a,h=0;h<d;h++)if(h in g){var k=g[h];b.call(c,k,h,a)&&(e[f++]=k)}return e};_.Cc=Array.prototype.map?function(a,b,c){return Array.prototype.map.call(a,b,c)}:function(a,b,c){for(var d=a.length,e=Array(d),f=typeof a===\"string\"?a.split(\"\"):a,g=0;g<d;g++)g in f&&(e[g]=b.call(c,f[g],g,a));return e};', '_.Dc=Array.prototype.some?function(a,b){return Array.prototype.some.call(a,b,void 0)}:function(a,b){for(var c=a.length,d=typeof a===\"string\"?a.split(\"\"):a,e=0;e<c;e++)if(e in d&&b.call(void 0,d[e],e,a))return!0;return!1};_.Ec=function(a){_.Ec[\" \"](a);return a};_.Ec[\" \"]=function(){};var Rc;_.Fc=_.ra();_.Gc=_.sa();_.Hc=_.pa(\"Edge\");_.Ic=_.pa(\"Gecko\")&&!(_.la()&&!_.pa(\"Edge\"))&&!(_.pa(\"Trident\")||_.pa(\"MSIE\"))&&!_.pa(\"Edge\");_.Jc=_.la()&&!_.pa(\"Edge\");_.Kc=_.za();_.Lc=wa()?na.platform===\"Windows\":_.pa(\"Windows\");_.Mc=wa()?na.platform===\"Android\":_.pa(\"Android\");_.Nc=xa();_.Oc=_.pa(\"iPad\");_.Pc=_.pa(\"iPod\");_.Qc=_.ya();', 'a:{var Sc=\"\",Tc=function(){var a=_.ka();if(_.Ic)return/rv:([^\\\\);]+)(\\\\)|;)/.exec(a);if(_.Hc)return/Edge\\\\/([\\\\d\\\\.]+)/.exec(a);if(_.Gc)return/\\\\b(?:MSIE|rv)[: ]([^\\\\);]+)(\\\\)|;)/.exec(a);if(_.Jc)return/WebKit\\\\/(\\\\S+)/.exec(a);if(_.Fc)return/(?:Version)[ \\\\/]?(\\\\S+)/.exec(a)}();Tc&&(Sc=Tc?Tc[1]:\"\");if(_.Gc){var Uc,Vc=_.t.document;Uc=Vc?Vc.documentMode:void 0;if(Uc!=null&&Uc>parseFloat(Sc)){Rc=String(Uc);break a}}Rc=Sc}_.Wc=Rc;_.Xc=_.ta();_.Yc=xa()||_.pa(\"iPod\");_.Zc=_.pa(\"iPad\");_.$c=_.pa(\"Android\")&&!(ua()||_.ta()||_.ra()||_.pa(\"Silk\"));_.ad=ua();_.bd=_.va()&&!_.ya();_.cd=typeof Uint8Array!==\"undefined\";_.dd=!_.Gc&&typeof btoa===\"function\";var fd,db,sb,nb;_.Da=typeof Symbol===\"function\"&&typeof Symbol()===\"symbol\";fd=_.Ca(\"jas\",void 0,!0);_.bb=_.Ca(void 0,Symbol());_.gd=_.Ca(void 0,\"0ub\");db=_.Ca(void 0,\"0ubs\");_.hd=_.Ca(void 0,\"0ubsb\");sb=_.Ca(void 0,\"0actk\");_.Ya=_.Ca(\"m_m\",\"Om\",!0);nb=_.Ca(void 0,\"vps\");_.id=_.Ca();var Fa,Ea,kd;Fa={Yj:{value:0,configurable:!0,writable:!0,enumerable:!1}};Ea=Object.defineProperties;_.v=_.Da?fd:\"Yj\";kd=[];_.Ha(kd,7);_.jd=Object.freeze(kd);var Ia;_.Za={};Ia={};_.ld=Object.freeze({});var ob={};var Na=void 0;_.md=typeof BigInt===\"function\"?BigInt.asIntN:void 0;_.nd=Number.isSafeInteger;_.Sa=Number.isFinite;_.od=Math.trunc;var fb;_.pd=_.ha(0);_.qd={};_.rd=function(a,b,c,d,e){b=_.Db(a.J,b,c,e);if(b!==null||d&&a.o!==Ia)return b};_.Db=function(a,b,c,d){if(b===-1)return null;var e=b+(c?0:-1),f=a.length-1;if(!(f<1+(c?0:-1))){if(e>=f){var g=a[f];if(g!=null&&typeof g===\"object\"&&g.constructor===Object){c=g[b];var h=!0}else if(e===f)c=g;else return}else c=a[e];if(d&&c!=null){d=d(c);if(d==null)return d;if(!Object.is(d,c))return h?g[b]=d:a[e]=d,d}return c}};_.sd=function(a,b,c,d){_.Ab(a);var e=a.J;_.Cb(e,e[_.v]|0,b,c,d);return a};', '_.I=function(a,b,c,d){var e=a.J,f=e[_.v]|0;b=_.Eb(e,f,b,c,d);if(b==null)return b;f=e[_.v]|0;if(!_.Ja(a,f)){var g=_.xb(b);g!==b&&(_.zb(a)&&(e=a.J,f=e[_.v]|0),b=g,f=_.Cb(e,f,c,b,d),_.Bb(e,f))}return b};_.J=function(a,b,c){c==null&&(c=void 0);_.sd(a,b,c);c&&!_.Ja(c)&&_.Bb(a.J);return a};_.td=function(a,b,c,d){return _.Ua(_.rd(a,b,c,d))};_.K=function(a,b,c,d){c=c===void 0?!1:c;var e;return(e=_.Ra(_.rd(a,b,d)))!=null?e:c};', '_.L=function(a,b,c,d){c=c===void 0?\"\":c;var e;return(e=_.Xa(_.rd(a,b,d)))!=null?e:c};_.M=function(a,b,c){return _.Xa(_.rd(a,b,c,_.qd))};_.N=function(a,b,c,d){return _.sd(a,b,c==null?c:_.Qa(c),d)};_.O=function(a,b,c){return _.sd(a,b,c==null?c:_.Va(c))};_.P=function(a,b,c,d){return _.sd(a,b,_.Wa(c),d)};_.Q=function(a,b,c,d){return _.sd(a,b,c==null?c:_.Ta(c),d)};_.R=function(a,b,c){this.J=_.x(a,b,c)};_.R.prototype.toJSON=function(){return pb(this)};_.R.prototype.va=function(a){return JSON.stringify(pb(this,a))};_.R.prototype[_.Ya]=_.Za;_.R.prototype.toString=function(){return this.J.toString()};_.ud=_.Fb();_.vd=_.Fb();_.wd=_.Fb();_.xd=Symbol();var yd=function(a){this.J=_.x(a)};_.B(yd,_.R);_.zd=function(a){this.J=_.x(a)};_.B(_.zd,_.R);_.zd.prototype.rd=function(a){return _.O(this,3,a)};_.Ad=function(a){this.J=_.x(a)};_.B(_.Ad,_.R);_.S=function(){this.ya=this.ya;this.Y=this.Y};_.S.prototype.ya=!1;_.S.prototype.isDisposed=function(){return this.ya};_.S.prototype.dispose=function(){this.ya||(this.ya=!0,this.P())};_.S.prototype[Symbol.dispose]=function(){this.dispose()};_.S.prototype.P=function(){if(this.Y)for(;this.Y.length;)this.Y.shift()()};var Bd=function(a){_.S.call(this);this.o=a;this.i=[];this.j={}};_.B(Bd,_.S);Bd.prototype.resolve=function(a){var b=this.o;a=a.split(\".\");for(var c=a.length,d=0;d<c;++d)if(b[a[d]])b=b[a[d]];else return null;return b instanceof Function?b:null};Bd.prototype.rb=function(){for(var a=this.i.length,b=this.i,c=[],d=0;d<a;++d){var e=b[d].i(),f=this.resolve(e);if(f&&f!=this.j[e])try{b[d].rb(f)}catch(g){}else c.push(b[d])}this.i=c.concat(b.slice(a))};var Cd=function(a){_.S.call(this);this.o=a;this.A=this.i=null;this.v=0;this.B={};this.j=!1;a=window.navigator.userAgent;a.indexOf(\"MSIE\")>=0&&a.indexOf(\"Trident\")>=0&&(a=/\\\\b(?:MSIE|rv)[: ]([^\\\\);]+)(\\\\)|;)/.exec(a))&&a[1]&&parseFloat(a[1])<9&&(this.j=!0)};_.B(Cd,_.S);Cd.prototype.C=function(a,b){this.i=b;this.A=a;b.preventDefault?b.preventDefault():b.returnValue=!1};_.Dd=function(a){this.J=_.x(a)};_.B(_.Dd,_.R);var Ed=function(a){this.J=_.x(a)};_.B(Ed,_.R);var Gd=function(){var a=Fd;this.i=null;_.K(a,4,!0)};Gd.prototype.log=function(a,b,c){c=c===void 0?new _.zd:c;_.Hd(this,a,98,c)};_.Hd=function(a,b,c,d){c=c===void 0?98:c;d=d===void 0?new _.zd:d;if(a.i){var e=new yd;_.P(e,1,b.message);_.P(e,2,b.stack);_.O(e,3,b.lineNumber);_.Q(e,5,1);_.J(d,40,e);a.i.log(c,d)}};_.Jd=function(a){this.i=a;this.j=void 0;this.o=[]};_.Jd.prototype.then=function(a,b,c){this.o.push(new Kd(a,b,c));Ld(this)};_.Jd.prototype.resolve=function(a){if(this.i!==void 0||this.j!==void 0)throw Error(\"J\");this.i=a;Ld(this)};_.Jd.prototype.reject=function(a){if(this.i!==void 0||this.j!==void 0)throw Error(\"J\");this.j=a;Ld(this)};var Ld=function(a){if(a.o.length>0){var b=a.i!==void 0,c=a.j!==void 0;if(b||c){b=b?a.v:a.A;c=a.o;a.o=[];try{_.Ac(c,b,a)}catch(d){console.error(d)}}}};', '_.Jd.prototype.v=function(a){a.j&&a.j.call(a.i,this.i)};_.Jd.prototype.A=function(a){a.o&&a.o.call(a.i,this.j)};var Kd=function(a,b,c){this.j=a;this.o=b;this.i=c};_.Md=function(a){var b=\"Xb\";if(a.Xb&&a.hasOwnProperty(b))return a.Xb;b=new a;return a.Xb=b};_.Nd=function(){this.v=new _.Jd;this.i=new _.Jd;this.D=new _.Jd;this.B=new _.Jd;this.C=new _.Jd;this.A=new _.Jd;this.o=new _.Jd;this.j=new _.Jd;this.F=new _.Jd;this.G=new _.Jd};_.l=_.Nd.prototype;_.l.cj=function(){return this.v};_.l.kj=function(){return this.i};_.l.uj=function(){return this.D};_.l.jj=function(){return this.B};_.l.rj=function(){return this.C};_.l.hj=function(){return this.A};_.l.Vi=function(){return this.o};_.l.Ui=function(){return this.j};_.l.lj=function(){return this.F};_.Nd.i=function(){return _.Md(_.Nd)};var Od=function(a){this.J=_.x(a)};_.B(Od,_.R);_.Qd=function(){return _.I(_.Pd,_.Ad,5)};var Rd;window.gbar_&&window.gbar_.CONFIG?Rd=window.gbar_.CONFIG[0]||{}:Rd=[];_.Pd=new Od(Rd);var Fd;Fd=_.I(_.Pd,Ed,3)||new Ed;_.Sd=new Gd;_.F(\"gbar_._DumpException\",function(a){_.Sd?_.Sd.log(a):console.error(a)});_.Td=new Cd(_.Sd);_.Ud=function(){this.i={};this.j={}};_.Wd=function(a,b){var c=_.Ud.i();if(a in c.i){if(c.i[a]!=b)throw new Vd(a);}else{c.i[a]=b;if(b=c.j[a])for(var d=0,e=b.length;d<e;d++){var f=b[d],g=c.i;delete f.i[a];if(_.Ib(f.i)){for(var h=f.j.length,k=Array(h),m=0;m<h;m++)k[m]=g[f.j[m]];f.o.apply(f.v,k)}}delete c.j[a]}};_.Ud.i=function(){return _.Md(_.Ud)};_.Xd=function(){_.aa.call(this)};_.B(_.Xd,_.aa);var Vd=function(){_.aa.call(this)};_.B(Vd,_.Xd);_.F(\"gbar.A\",_.Jd);_.Jd.prototype.aa=_.Jd.prototype.then;_.F(\"gbar.B\",_.Nd);_.Nd.prototype.ba=_.Nd.prototype.kj;_.Nd.prototype.bb=_.Nd.prototype.uj;_.Nd.prototype.bd=_.Nd.prototype.rj;_.Nd.prototype.bf=_.Nd.prototype.cj;_.Nd.prototype.bg=_.Nd.prototype.jj;_.Nd.prototype.bh=_.Nd.prototype.hj;_.Nd.prototype.bj=_.Nd.prototype.Vi;_.Nd.prototype.bk=_.Nd.prototype.Ui;_.Nd.prototype.bl=_.Nd.prototype.lj;_.F(\"gbar.a\",_.Nd.i());window.gbar&&window.gbar.ap&&window.gbar.ap(window.gbar.a);var Yd=new Bd(window);', '_.Wd(\"api\",Yd);var Zd=_.Qd()||new _.Ad,$d=window,ae=_.y(_.M(Zd,8));$d.__PVT=ae;_.Wd(\"eq\",_.Td);', '}catch(e){_._DumpException(e)}', 'try{', '_.be=function(a){this.J=_.x(a)};_.B(_.be,_.R);', '}catch(e){_._DumpException(e)}', 'try{', 'var ce=function(a){this.J=_.x(a)};_.B(ce,_.R);var de=function(){_.S.call(this);this.j=[];this.i=[]};_.B(de,_.S);de.prototype.o=function(a,b){this.j.push({features:a,options:b!=null?b:null})};de.prototype.init=function(a,b,c){window.gapi={};var d=window.___jsl={};d.h=_.y(_.M(a,1));_.Ra(_.rd(a,12))!=null&&(d.dpo=_.Gb(_.K(a,12)));d.ms=_.y(_.M(a,2));d.m=_.y(_.M(a,3));d.l=[];_.L(b,1)&&(a=_.M(b,3))&&this.i.push(a);_.L(c,1)&&(c=_.M(c,2))&&this.i.push(c);_.F(\"gapi.load\",(0,_.D)(this.o,this));return this};var ee=_.I(_.Pd,_.Dd,14);if(ee){var fe=_.I(_.Pd,_.be,9)||new _.be,ge=new ce,he=new de;he.init(ee,fe,ge);_.Wd(\"gs\",he)};', '}catch(e){_._DumpException(e)}', '})(this.gbar_);', '// Google Inc.', '</script><script nonce=\"mL0xr1RZ/ldLtc36ki5rZA==\">try {const preferences = JSON.parse(window.localStorage.getItem(\"datalab_prefs_anonymous\")); document.querySelector(\\'html\\') .setAttribute(\\'theme\\', preferences[\\'siteTheme\\'] || \\'default\\');} catch (e) {}</script><script nonce=\"mL0xr1RZ/ldLtc36ki5rZA==\">window.performance.mark(\\'head_start\\');</script><link rel=\"stylesheet\" href=\"https://ssl.gstatic.com/colaboratory-static/common/ba949deb249ef9f47fc1dcc9f5a324cc/v2/external/bundle.css\"/><script nonce=\"mL0xr1RZ/ldLtc36ki5rZA==\">var colabVersionTag = \\'colab_20250905-060054_RC00_803373263\\'; var colabScsVersion = \\'ba949deb249ef9f47fc1dcc9f5a324cc\\'; var hl = \\'en\\'; var colabExperiments = JSON.parse(\\'\\\\x7b\\\\x22add_df_vars_in_ai_conversation_context\\\\x22: false, \\\\x22add_df_vars_in_ai_generate_context\\\\x22: false, \\\\x22add_notebook_diffs_to_chat_history\\\\x22: false, \\\\x22add_nvidia_cudf_facts_to_chat_context\\\\x22: true, \\\\x22add_prompt_cell\\\\x22: false, \\\\x22agent_client_update_task_max_request_size_bytes\\\\x22: 10000000, \\\\x22agent_scroll_delay_ms\\\\x22: 200, \\\\x22agent_update_task_max_request_size_bytes\\\\x22: 10000000, \\\\x22ai_banner\\\\x22: false, \\\\x22ai_characters_per_token\\\\x22: 3.0, \\\\x22ai_prompt_token_limit\\\\x22: 32000, \\\\x22ai_service_client_type\\\\x22: \\\\x22\\\\x22, \\\\x22ai_unsubscribed_warning\\\\x22: false, \\\\x22ai_user_input_char_limit\\\\x22: 2000, \\\\x22aida_complete_code_model_id\\\\x22: \\\\x22\\\\x22, \\\\x22aida_converse_max_facts\\\\x22: 20, \\\\x22aida_do_conversation_model_id\\\\x22: \\\\x22aida_v3p1s_streaming\\\\x22, \\\\x22aida_dsa_model_strategy\\\\x22: -1, \\\\x22aida_generate_code_model_id\\\\x22: \\\\x22aida_v3p1s\\\\x22, \\\\x22aida_generate_code_no_max_tokens\\\\x22: true, \\\\x22allow_dsa_page_interaction\\\\x22: true, \\\\x22allow_readonly_cells\\\\x22: true, \\\\x22allow_subpaths_in_kernel_url\\\\x22: false, \\\\x22allowed_public_url_domains\\\\x22: \\\\x5b\\\\x22huggingface.co\\\\x22, \\\\x22dagshub.com\\\\x22, \\\\x22storage.googleapis.com\\\\x22\\\\x5d, \\\\x22backend_url_allowlist\\\\x22: \\\\x5b\\\\x22localhost\\\\x22, \\\\x22127.0.0.1\\\\x22, \\\\x22\\\\x5b::1\\\\x5d\\\\x22, \\\\x22kkb-production.jupyter-proxy.kaggle.net\\\\x22, \\\\x22kkb-staging.jupyter-proxy.kaggle.net\\\\x22, \\\\x22isolabs-kernels.corp.goog\\\\x22\\\\x5d, \\\\x22backend_version\\\\x22: \\\\x22next\\\\x22, \\\\x22backtracking_strategy\\\\x22: \\\\x22non-literals\\\\x22, \\\\x22bigquery_sql_engine\\\\x22: false, \\\\x22bigquery_sql_engine_library\\\\x22: \\\\x22\\\\x22, \\\\x22ccu_info_abort_timeout_ms\\\\x22: 3000, \\\\x22cell_tags\\\\x22: false, \\\\x22cell_ui_refresh\\\\x22: true, \\\\x22chat_explain_error_temp\\\\x22: \\\\x221.0\\\\x22, \\\\x22chat_model_id_override\\\\x22: \\\\x22\\\\x22, \\\\x22classified_generate\\\\x22: false, \\\\x22classroom_iframe_parent_origin\\\\x22: \\\\x22\\\\x22, \\\\x22client_trim_completion_text\\\\x22: 400, \\\\x22clone_notebook_link\\\\x22: true, \\\\x22cloud_origin\\\\x22: \\\\x22\\\\x22, \\\\x22cloud_run\\\\x22: false, \\\\x22code_report_millis\\\\x22: 600000, \\\\x22colab_fetch_try_reauth\\\\x22: false, \\\\x22comment_poll_long\\\\x22: 900000, \\\\x22comment_poll_short\\\\x22: 60000, \\\\x22complete_code\\\\x22: true, \\\\x22compose_skip_suffix_check\\\\x22: false, \\\\x22composer\\\\x22: true, \\\\x22composer_auto_code\\\\x22: true, \\\\x22composer_autocomplete\\\\x22: false, \\\\x22composer_bigquery_context\\\\x22: false, \\\\x22composer_context_max_variable_length\\\\x22: 500000, \\\\x22composer_early_stopping_for_image_truncation\\\\x22: false, \\\\x22composer_focused_cell_context\\\\x22: true, \\\\x22composer_fp_context\\\\x22: false, \\\\x22composer_generate_code\\\\x22: true, \\\\x22composer_generated_cell_placement_logic\\\\x22: true, \\\\x22composer_kernel_files_in_context\\\\x22: true, \\\\x22composer_model_strategy\\\\x22: 0, \\\\x22composer_show_debug_info\\\\x22: false, \\\\x22composer_show_single_diff_buttons\\\\x22: false, \\\\x22composer_survey\\\\x22: true, \\\\x22composer_transform_code\\\\x22: true, \\\\x22composer_visible_cells_context\\\\x22: true, \\\\x22converse_notebook_context_length\\\\x22: 40000, \\\\x22copy_cell_output\\\\x22: false, \\\\x22corp_third_party_widgets\\\\x22: false, \\\\x22crawler\\\\x22: false, \\\\x22create_gemini_api_key\\\\x22: false, \\\\x22critique_comments\\\\x22: false, \\\\x22data_inspector\\\\x22: false, \\\\x22dbu\\\\x22: \\\\x22\\\\x22, \\\\x22debug_adapter\\\\x22: false, \\\\x22debug_external\\\\x22: \\\\x22external\\\\x22, \\\\x22debug_prod\\\\x22: \\\\x22prod\\\\x22, \\\\x22debugger_server_side_globals\\\\x22: true, \\\\x22dep_cells_commands\\\\x22: true, \\\\x22dep_cells_enabled\\\\x22: false, \\\\x22dep_graph\\\\x22: false, \\\\x22deprecate_prompt\\\\x22: true, \\\\x22deprecated_accelerator_models\\\\x22: \\\\x5b\\\\x5d, \\\\x22development\\\\x22: false, \\\\x22dialog_ui_refresh\\\\x22: false, \\\\x22disable_text_cell_double_click_presentation_mode\\\\x22: false, \\\\x22document_change_poll_interval\\\\x22: 30000, \\\\x22drive_anon_api_key\\\\x22: \\\\x22AIzaSyB10s2vWUTwP0pj20wZoxmpZIt3rRodYeg\\\\x22, \\\\x22drive_api_key\\\\x22: \\\\x22AIzaSyCN_sSPJMpYrAzC5AtTrltNC8oRmLtoqBk\\\\x22, \\\\x22drive_background_save_project_number\\\\x22: \\\\x22948411933973\\\\x22, \\\\x22drive_realtime_project_number\\\\x22: \\\\x22903414543955\\\\x22, \\\\x22drop_chat_links\\\\x22: true, \\\\x22dsa\\\\x22: true, \\\\x22dsa_file_not_sent_survey_timeout\\\\x22: 60000, \\\\x22dsa_markdown_cells\\\\x22: false, \\\\x22dsa_sample_datasets_toast\\\\x22: true, \\\\x22embedded_use_websockets\\\\x22: false, \\\\x22embedding_app\\\\x22: \\\\x22\\\\x22, \\\\x22enable_a100_hm\\\\x22: true, \\\\x22enable_adhoc_backends\\\\x22: false, \\\\x22enable_agent_connect_to_new_vm\\\\x22: true, \\\\x22enable_cell_pair_slides\\\\x22: true, \\\\x22enable_composer_changeset_stacking\\\\x22: false, \\\\x22enable_composer_code_report\\\\x22: false, \\\\x22enable_composer_suggestion_chips\\\\x22: false, \\\\x22enable_dasher_subscription_ui\\\\x22: true, \\\\x22enable_edu_subscription_ui\\\\x22: true, \\\\x22enable_improved_composer_context_mentions\\\\x22: false, \\\\x22enable_more_reprs\\\\x22: true, \\\\x22enable_mpp_orc_model_overrides\\\\x22: true, \\\\x22enable_rt_on_create\\\\x22: false, \\\\x22execution_status_propagation\\\\x22: true, \\\\x22explain_error_model_id_override\\\\x22: \\\\x22\\\\x22, \\\\x22explain_error_trim_traceback\\\\x22: true, \\\\x22explicit_ai_backend\\\\x22: \\\\x22\\\\x22, \\\\x22external_trusted_github_org_repos_quick_add\\\\x22: \\\\x22GoogleChrome\\\\/CrUX,google\\\\/generative-ai-docs,google-health\\\\/cxr-foundation,google-health\\\\/derm-foundation,google-health\\\\/path-foundation\\\\x22, \\\\x22file_browser_poll_interval_millis\\\\x22: 10000, \\\\x22file_upload_rate_limit\\\\x22: 5, \\\\x22first_party_auth\\\\x22: true, \\\\x22fix_imports\\\\x22: false, \\\\x22fp_context\\\\x22: false, \\\\x22generate_code\\\\x22: true, \\\\x22generate_df\\\\x22: true, \\\\x22generate_prompt_reduce_blank_responses\\\\x22: false, \\\\x22generate_prompt_reduce_name_errors\\\\x22: false, \\\\x22get_started\\\\x22: false, \\\\x22gis_auth\\\\x22: true, \\\\x22github_client_id\\\\x22: \\\\x225036cf6d81e65aaa6340\\\\x22, \\\\x22gpu_utilization_check_interval_ms\\\\x22: 600000, \\\\x22hats_surveys\\\\x22: true, \\\\x22hrc\\\\x22: false, \\\\x22import_data\\\\x22: false, \\\\x22inline_completion_ai_campaign_max_views\\\\x22: 3, \\\\x22inline_completion_ai_campaign_throttle_ms\\\\x22: 600000, \\\\x22is_prober\\\\x22: false, \\\\x22jspb_analytics\\\\x22: true, \\\\x22jsraw\\\\x22: \\\\x22compiled\\\\x22, \\\\x22kaggle_backend_runtime_selector\\\\x22: false, \\\\x22kaggle_client_id\\\\x22: \\\\x22\\\\x22, \\\\x22kaggle_integrations\\\\x22: false, \\\\x22kaggle_resource_picker\\\\x22: false, \\\\x22kernel_use_connected_endpoint_for_unassign\\\\x22: true, \\\\x22kernel_utils_fetch\\\\x22: false, \\\\x22key_promoter\\\\x22: false, \\\\x22kr\\\\x22: false, \\\\x22light_editor_themes\\\\x22: true, \\\\x22link_id_assignments\\\\x22: true, \\\\x22link_imports_to_installs\\\\x22: true, \\\\x22local_cloud_apis\\\\x22: false, \\\\x22local_service_worker\\\\x22: false, \\\\x22lsp_diagnostics_reporting\\\\x22: false, \\\\x22lsp_inlay_hint\\\\x22: false, \\\\x22makersuite_api_key\\\\x22: \\\\x22AIzaSyAmDcruecW4rCL1KdwcbIVHL4LkXxahIgw\\\\x22, \\\\x22makersuite_service_url\\\\x22: \\\\x22https:\\\\/\\\\/alkalimakersuite-pa.clients6.google.com\\\\x22, \\\\x22markdown_spellchecker\\\\x22: false, \\\\x22migrate_ccu_info\\\\x22: false, \\\\x22min_dep_cells_runtime_kernel_cl\\\\x22: 694609395, \\\\x22ml_enabled\\\\x22: false, \\\\x22mobile\\\\x22: false, \\\\x22moma_rag\\\\x22: false, \\\\x22moma_rag_composer\\\\x22: false, \\\\x22mpp_orc_temperature_override\\\\x22: \\\\x221.0\\\\x22, \\\\x22multi_modal_context_for_composer\\\\x22: true, \\\\x22multi_modal_context_for_transform\\\\x22: false, \\\\x22nl2code_missing_imports\\\\x22: false, \\\\x22no_fun\\\\x22: false, \\\\x22oneplatform_api_key\\\\x22: \\\\x22AIzaSyA2BvntLwNwFthUB4w6_Bhn0cMlVHwyaHc\\\\x22, \\\\x22oneplatform_endpoint\\\\x22: \\\\x22https:\\\\/\\\\/colab.clients6.google.com\\\\x22, \\\\x22outage_notification\\\\x22: \\\\x22\\\\x22, \\\\x22outage_notification_link\\\\x22: \\\\x22\\\\x22, \\\\x22outputframe_version\\\\x22: \\\\x22\\\\x22, \\\\x22override_suf_params_for_test\\\\x22: false, \\\\x22panel_ui_refresh\\\\x22: false, \\\\x22parallel_prompting\\\\x22: true, \\\\x22pds_minting\\\\x22: false, \\\\x22prepare_runtime_for_notebook\\\\x22: false, \\\\x22prereq_cells_next_steps\\\\x22: true, \\\\x22presentation_mode_connect_runtime\\\\x22: false, \\\\x22prevent_ai_long_response_generate\\\\x22: false, \\\\x22prevent_ai_long_response_generate_with_df\\\\x22: false, \\\\x22prevent_ai_long_response_suggest_fix\\\\x22: false, \\\\x22prompt_for_dsa_trusted_tester_consent\\\\x22: false, \\\\x22recaptcha_polling_frequency_ms\\\\x22: 300000, \\\\x22recaptcha_v2_site_key\\\\x22: \\\\x226LfQttQUAAAAADuPanA_VZMaZgBAOnHZNuuqUewp\\\\x22, \\\\x22recaptcha_v3_site_key\\\\x22: \\\\x226LfQPtEUAAAAAHBpAdFng54jyuB1V5w5dofknpip\\\\x22, \\\\x22reconnect_max_delay_seconds\\\\x22: 300, \\\\x22reduced_gemini_sparks\\\\x22: false, \\\\x22remove_ai_explain_cell_fencing\\\\x22: true, \\\\x22remove_ai_explain_error_fencing\\\\x22: true, \\\\x22remove_ai_generate_fencing\\\\x22: true, \\\\x22require_ai_consent\\\\x22: true, \\\\x22resource_poll_interval_ms\\\\x22: 10000, \\\\x22rp_kxhr_skip_fallback\\\\x22: false, \\\\x22rp_serve_kernel_port\\\\x22: true, \\\\x22rp_socketio_fallback\\\\x22: true, \\\\x22rp_token_refresh_headroom_millis\\\\x22: 300000, \\\\x22rt_opt_in\\\\x22: \\\\x22OFF\\\\x22, \\\\x22run_mode\\\\x22: false, \\\\x22runtime_env_overrides\\\\x22: \\\\x22\\\\\\\\n          \\\\x5b\\\\\\\\n            \\\\x5b\\\\\\\\\\\\x22ENABLE_DIRECTORYPREFETCHER\\\\\\\\\\\\x22, \\\\\\\\\\\\x221\\\\\\\\\\\\x22\\\\x5d\\\\\\\\n          \\\\x5d\\\\\\\\n        \\\\x22, \\\\x22runtime_type_for_test\\\\x22: \\\\x22\\\\x22, \\\\x22runtime_version_names\\\\x22: \\\\x5b\\\\x222025.07\\\\x22\\\\x5d, \\\\x22runtime_version_selector\\\\x22: true, \\\\x22server_execution_queue\\\\x22: true, \\\\x22server_side_generate_prompt_formatting_cloud\\\\x22: false, \\\\x22session_resume_coalesce\\\\x22: true, \\\\x22show_edu_signup_link\\\\x22: true, \\\\x22show_empty_notebook_actions\\\\x22: true, \\\\x22show_gemini_button_text_label\\\\x22: true, \\\\x22show_payments_interstitial\\\\x22: false, \\\\x22show_rel_notes_on_open\\\\x22: true, \\\\x22show_signup_survey\\\\x22: true, \\\\x22show_subscription_renewal_time\\\\x22: false, \\\\x22show_switch_to_prod_link\\\\x22: false, \\\\x22signup_ccu_increase\\\\x22: true, \\\\x22single_page_consent_form\\\\x22: true, \\\\x22smartpaste\\\\x22: false, \\\\x22smartpaste_chars_limit\\\\x22: -1, \\\\x22smartpaste_serving_config\\\\x22: \\\\x22freeform_servomatic_goose_v3_xs_smart_paste\\\\x22, \\\\x22sql_cell\\\\x22: false, \\\\x22sql_completion_lsp\\\\x22: false, \\\\x22storage_partition_trial\\\\x22: true, \\\\x22storage_partition_trial_token\\\\x22: \\\\x22Agk\\\\/t4Bt05W7j6CHeqXH9+6ccDayrBsQPqCLDPSElphe\\\\/7cUobayuvN0A3huajTbJenIjp6qibLteh6e0IEWrgIAAAB4eyJvcmlnaW4iOiJodHRwczovL2NvbGFiLnJlc2VhcmNoLmdvb2dsZS5jb206NDQzIiwiZmVhdHVyZSI6IkRpc2FibGVUaGlyZFBhcnR5U3RvcmFnZVBhcnRpdGlvbmluZzIiLCJleHBpcnkiOjE3NDIzNDIzOTl9\\\\x22, \\\\x22suggest_plots\\\\x22: true, \\\\x22task_service_initial_poll_interval_ms\\\\x22: 500, \\\\x22task_service_max_poll_count\\\\x22: 180, \\\\x22task_service_max_poll_interval_ms\\\\x22: 4000, \\\\x22task_service_poll_interval_growth_factor\\\\x22: 1.3, \\\\x22task_service_poll_interval_ms\\\\x22: 500, \\\\x22task_service_poll_timeout_ms\\\\x22: 90000, \\\\x22task_service_wait_before_polling_ms\\\\x22: 1000, \\\\x22term4all\\\\x22: true, \\\\x22terminate_session_on_connect_to_new_vm\\\\x22: true, \\\\x22text_cell_editor_toolbar_exit_button\\\\x22: false, \\\\x22text_compose_report_changes_millis\\\\x22: 10000, \\\\x22text_span_comments\\\\x22: false, \\\\x22tpu_node_redirect\\\\x22: true, \\\\x22tpu_resource_stats\\\\x22: false, \\\\x22transform_code\\\\x22: false, \\\\x22transform_code_context_file_per_cell\\\\x22: false, \\\\x22trim_filename_extension\\\\x22: false, \\\\x22turn_off_agent_mode_when_safe\\\\x22: true, \\\\x22unmanaged_vm_min_label_block\\\\x22: \\\\x22\\\\x22, \\\\x22unmanaged_vm_min_label_warn\\\\x22: \\\\x22\\\\x22, \\\\x22unmanaged_vm_min_release_tag_block\\\\x22: \\\\x22\\\\x22, \\\\x22unmanaged_vm_min_release_tag_warn\\\\x22: \\\\x22\\\\x22, \\\\x22unsupported_magics_check\\\\x22: true, \\\\x22use_ai_service\\\\x22: false, \\\\x22use_colab_adk_service\\\\x22: false, \\\\x22user_visible_accelerator_models\\\\x22: \\\\x5b\\\\x22T4\\\\x22, \\\\x22A100\\\\x22, \\\\x22L4\\\\x22, \\\\x22V28\\\\x22, \\\\x22V5E1\\\\x22, \\\\x22V6E1\\\\x22\\\\x5d, \\\\x22v_100_redirect\\\\x22: true, \\\\x22verbose_warnings\\\\x22: false, \\\\x22vertex_ai_api_environment_override\\\\x22: \\\\x22\\\\x22, \\\\x22viz_cell\\\\x22: false, \\\\x22want_completions_ai_consent_campaign\\\\x22: true, \\\\x22workstations\\\\x22: false, \\\\x22ids\\\\x22: \\\\x5b20730265, 20730324, 20730177, 20730182, 20730369, 20730363, 20730460, 20730375, 20730479, 20730454, 20730457, 20730485, 20730150\\\\x5d, \\\\x22flag_ids\\\\x22: \\\\x7b\\\\x22add_df_vars_in_ai_conversation_context\\\\x22: 45678289, \\\\x22add_df_vars_in_ai_generate_context\\\\x22: 45687604, \\\\x22add_notebook_diffs_to_chat_history\\\\x22: 45691117, \\\\x22add_nvidia_cudf_facts_to_chat_context\\\\x22: 45685179, \\\\x22add_prompt_cell\\\\x22: 45644995, \\\\x22agent_client_update_task_max_request_size_bytes\\\\x22: 45712580, \\\\x22agent_scroll_delay_ms\\\\x22: 45680776, \\\\x22ai_banner\\\\x22: 45670540, \\\\x22ai_characters_per_token\\\\x22: 45692654, \\\\x22ai_prompt_token_limit\\\\x22: 45692138, \\\\x22ai_service_client_type\\\\x22: 45723040, \\\\x22ai_unsubscribed_warning\\\\x22: 45504730, \\\\x22ai_user_input_char_limit\\\\x22: 45661098, \\\\x22aida_complete_code_model_id\\\\x22: 45427660, \\\\x22aida_converse_max_facts\\\\x22: 45680037, \\\\x22aida_do_conversation_model_id\\\\x22: 45427664, \\\\x22aida_dsa_model_strategy\\\\x22: 45693665, \\\\x22aida_generate_code_model_id\\\\x22: 45427663, \\\\x22aida_generate_code_no_max_tokens\\\\x22: 45694652, \\\\x22allow_dsa_page_interaction\\\\x22: 45675785, \\\\x22allow_readonly_cells\\\\x22: 45671718, \\\\x22allow_subpaths_in_kernel_url\\\\x22: 45699272, \\\\x22allowed_public_url_domains\\\\x22: 45425558, \\\\x22backend_url_allowlist\\\\x22: 45660303, \\\\x22backend_version\\\\x22: 45425541, \\\\x22backtracking_strategy\\\\x22: 45644832, \\\\x22bigquery_sql_engine\\\\x22: 45697421, \\\\x22bigquery_sql_engine_library\\\\x22: 45700104, \\\\x22ccu_info_abort_timeout_ms\\\\x22: 45691627, \\\\x22cell_tags\\\\x22: 45425779, \\\\x22cell_ui_refresh\\\\x22: 45673630, \\\\x22chat_explain_error_temp\\\\x22: 45655973, \\\\x22chat_model_id_override\\\\x22: 45631876, \\\\x22classified_generate\\\\x22: 45425499, \\\\x22classroom_iframe_parent_origin\\\\x22: 45425537, \\\\x22client_trim_completion_text\\\\x22: 45425628, \\\\x22clone_notebook_link\\\\x22: 45716348, \\\\x22cloud_origin\\\\x22: 45425538, \\\\x22cloud_run\\\\x22: 45697172, \\\\x22code_report_millis\\\\x22: 45658073, \\\\x22colab_fetch_try_reauth\\\\x22: 45713304, \\\\x22comment_poll_long\\\\x22: 45425588, \\\\x22comment_poll_short\\\\x22: 45425587, \\\\x22complete_code\\\\x22: 45686676, \\\\x22compose_skip_suffix_check\\\\x22: 45615470, \\\\x22composer\\\\x22: 45683351, \\\\x22composer_auto_code\\\\x22: 45693768, \\\\x22composer_autocomplete\\\\x22: 45718105, \\\\x22composer_bigquery_context\\\\x22: 45710683, \\\\x22composer_context_max_variable_length\\\\x22: 45688573, \\\\x22composer_early_stopping_for_image_truncation\\\\x22: 45719141, \\\\x22composer_focused_cell_context\\\\x22: 45697545, \\\\x22composer_fp_context\\\\x22: 45701859, \\\\x22composer_generate_code\\\\x22: 45702500, \\\\x22composer_generated_cell_placement_logic\\\\x22: 45721730, \\\\x22composer_kernel_files_in_context\\\\x22: 45701855, \\\\x22composer_model_strategy\\\\x22: 45711731, \\\\x22composer_show_debug_info\\\\x22: 45700003, \\\\x22composer_show_single_diff_buttons\\\\x22: 45723066, \\\\x22composer_survey\\\\x22: 45707270, \\\\x22composer_transform_code\\\\x22: 45700458, \\\\x22composer_visible_cells_context\\\\x22: 45716167, \\\\x22converse_notebook_context_length\\\\x22: 45705427, \\\\x22copy_cell_output\\\\x22: 45712093, \\\\x22corp_third_party_widgets\\\\x22: 45678906, \\\\x22crawler\\\\x22: 45425491, \\\\x22create_gemini_api_key\\\\x22: 45654552, \\\\x22critique_comments\\\\x22: 45612076, \\\\x22data_inspector\\\\x22: 45697206, \\\\x22dbu\\\\x22: 45425545, \\\\x22debug_adapter\\\\x22: 45690097, \\\\x22debug_external\\\\x22: 45425470, \\\\x22debug_prod\\\\x22: 45425471, \\\\x22debugger_server_side_globals\\\\x22: 45687360, \\\\x22dep_cells_commands\\\\x22: 45622249, \\\\x22dep_cells_enabled\\\\x22: 45653551, \\\\x22dep_graph\\\\x22: 45629071, \\\\x22deprecate_prompt\\\\x22: 45679897, \\\\x22deprecated_accelerator_models\\\\x22: 45724327, \\\\x22development\\\\x22: 45425544, \\\\x22dialog_ui_refresh\\\\x22: 45698577, \\\\x22disable_text_cell_double_click_presentation_mode\\\\x22: 45723721, \\\\x22document_change_poll_interval\\\\x22: 45425589, \\\\x22drive_anon_api_key\\\\x22: 45425478, \\\\x22drive_api_key\\\\x22: 45425473, \\\\x22drive_background_save_project_number\\\\x22: 45425479, \\\\x22drive_realtime_project_number\\\\x22: 45425629, \\\\x22drop_chat_links\\\\x22: 45646864, \\\\x22dsa\\\\x22: 45656258, \\\\x22dsa_file_not_sent_survey_timeout\\\\x22: 45688578, \\\\x22dsa_markdown_cells\\\\x22: 45707419, \\\\x22dsa_sample_datasets_toast\\\\x22: 45682045, \\\\x22embedded_use_websockets\\\\x22: 45691694, \\\\x22enable_a100_hm\\\\x22: 45723321, \\\\x22enable_adhoc_backends\\\\x22: 45425506, \\\\x22enable_agent_connect_to_new_vm\\\\x22: 45670252, \\\\x22enable_cell_pair_slides\\\\x22: 45719587, \\\\x22enable_composer_changeset_stacking\\\\x22: 45717253, \\\\x22enable_composer_code_report\\\\x22: 45708595, \\\\x22enable_composer_suggestion_chips\\\\x22: 45710464, \\\\x22enable_dasher_subscription_ui\\\\x22: 45639531, \\\\x22enable_edu_subscription_ui\\\\x22: 45693272, \\\\x22enable_improved_composer_context_mentions\\\\x22: 45721452, \\\\x22enable_more_reprs\\\\x22: 45613354, \\\\x22enable_mpp_orc_model_overrides\\\\x22: 45649913, \\\\x22enable_rt_on_create\\\\x22: 45667583, \\\\x22execution_status_propagation\\\\x22: 45644828, \\\\x22explain_error_model_id_override\\\\x22: 45631875, \\\\x22explain_error_trim_traceback\\\\x22: 45618831, \\\\x22explicit_ai_backend\\\\x22: 45638548, \\\\x22external_trusted_github_org_repos_quick_add\\\\x22: 45425555, \\\\x22file_browser_poll_interval_millis\\\\x22: 45643722, \\\\x22file_upload_rate_limit\\\\x22: 45637799, \\\\x22first_party_auth\\\\x22: 45425560, \\\\x22fix_imports\\\\x22: 45624140, \\\\x22fp_context\\\\x22: 45684902, \\\\x22generate_code\\\\x22: 45425492, \\\\x22generate_df\\\\x22: 45425503, \\\\x22generate_prompt_reduce_blank_responses\\\\x22: 45643396, \\\\x22generate_prompt_reduce_name_errors\\\\x22: 45634392, \\\\x22get_started\\\\x22: 45430267, \\\\x22gis_auth\\\\x22: 45425625, \\\\x22github_client_id\\\\x22: 45425556, \\\\x22gpu_utilization_check_interval_ms\\\\x22: 45425561, \\\\x22hats_surveys\\\\x22: 45425559, \\\\x22import_data\\\\x22: 45430411, \\\\x22inline_completion_ai_campaign_max_views\\\\x22: 45676328, \\\\x22inline_completion_ai_campaign_throttle_ms\\\\x22: 45671534, \\\\x22is_prober\\\\x22: 45429104, \\\\x22jspb_analytics\\\\x22: 45704358, \\\\x22jsraw\\\\x22: 45425557, \\\\x22kaggle_backend_runtime_selector\\\\x22: 45704319, \\\\x22kaggle_client_id\\\\x22: 45690272, \\\\x22kaggle_integrations\\\\x22: 45690259, \\\\x22kaggle_resource_picker\\\\x22: 45697311, \\\\x22kernel_use_connected_endpoint_for_unassign\\\\x22: 45684913, \\\\x22kernel_utils_fetch\\\\x22: 45708200, \\\\x22key_promoter\\\\x22: 45425570, \\\\x22light_editor_themes\\\\x22: 45721031, \\\\x22link_id_assignments\\\\x22: 45644831, \\\\x22link_imports_to_installs\\\\x22: 45644830, \\\\x22local_cloud_apis\\\\x22: 45425630, \\\\x22local_service_worker\\\\x22: 45425550, \\\\x22lsp_diagnostics_reporting\\\\x22: 45425604, \\\\x22lsp_inlay_hint\\\\x22: 45614695, \\\\x22makersuite_api_key\\\\x22: 45655361, \\\\x22makersuite_service_url\\\\x22: 45655362, \\\\x22markdown_spellchecker\\\\x22: 45671479, \\\\x22migrate_ccu_info\\\\x22: 45716751, \\\\x22min_dep_cells_runtime_kernel_cl\\\\x22: 45654240, \\\\x22ml_enabled\\\\x22: 45425493, \\\\x22mobile\\\\x22: 45425562, \\\\x22moma_rag\\\\x22: 45686203, \\\\x22moma_rag_composer\\\\x22: 45706746, \\\\x22mpp_orc_temperature_override\\\\x22: 45649914, \\\\x22multi_modal_context_for_composer\\\\x22: 45691122, \\\\x22multi_modal_context_for_transform\\\\x22: 45687634, \\\\x22nl2code_missing_imports\\\\x22: 45615676, \\\\x22no_fun\\\\x22: 45425540, \\\\x22oneplatform_api_key\\\\x22: 45717742, \\\\x22oneplatform_endpoint\\\\x22: 45717924, \\\\x22outage_notification\\\\x22: 45425584, \\\\x22outage_notification_link\\\\x22: 45425585, \\\\x22outputframe_version\\\\x22: 45425591, \\\\x22override_suf_params_for_test\\\\x22: 45425592, \\\\x22panel_ui_refresh\\\\x22: 45721124, \\\\x22parallel_prompting\\\\x22: 45666384, \\\\x22pds_minting\\\\x22: 45648255, \\\\x22prepare_runtime_for_notebook\\\\x22: 45699118, \\\\x22prereq_cells_next_steps\\\\x22: 45640400, \\\\x22presentation_mode_connect_runtime\\\\x22: 45722751, \\\\x22prevent_ai_long_response_generate\\\\x22: 45680972, \\\\x22prevent_ai_long_response_generate_with_df\\\\x22: 45681123, \\\\x22prevent_ai_long_response_suggest_fix\\\\x22: 45681124, \\\\x22prompt_for_dsa_trusted_tester_consent\\\\x22: 45670923, \\\\x22recaptcha_polling_frequency_ms\\\\x22: 45425582, \\\\x22recaptcha_v2_site_key\\\\x22: 45425581, \\\\x22recaptcha_v3_site_key\\\\x22: 45425580, \\\\x22reconnect_max_delay_seconds\\\\x22: 45425539, \\\\x22reduced_gemini_sparks\\\\x22: 45719726, \\\\x22remove_ai_explain_cell_fencing\\\\x22: 45677303, \\\\x22remove_ai_explain_error_fencing\\\\x22: 45677302, \\\\x22remove_ai_generate_fencing\\\\x22: 45673079, \\\\x22require_ai_consent\\\\x22: 45425489, \\\\x22resource_poll_interval_ms\\\\x22: 45425590, \\\\x22rp_kxhr_skip_fallback\\\\x22: 45656329, \\\\x22rp_serve_kernel_port\\\\x22: 45572083, \\\\x22rp_socketio_fallback\\\\x22: 45658495, \\\\x22rp_token_refresh_headroom_millis\\\\x22: 45517773, \\\\x22rt_opt_in\\\\x22: 45667546, \\\\x22run_mode\\\\x22: 45642857, \\\\x22runtime_env_overrides\\\\x22: 45425583, \\\\x22runtime_type_for_test\\\\x22: 45425586, \\\\x22runtime_version_names\\\\x22: 45714997, \\\\x22runtime_version_selector\\\\x22: 45713197, \\\\x22server_execution_queue\\\\x22: 45425600, \\\\x22server_side_generate_prompt_formatting_cloud\\\\x22: 45655196, \\\\x22session_resume_coalesce\\\\x22: 45425603, \\\\x22show_edu_signup_link\\\\x22: 45692615, \\\\x22show_empty_notebook_actions\\\\x22: 45677304, \\\\x22show_gemini_button_text_label\\\\x22: 45681647, \\\\x22show_payments_interstitial\\\\x22: 45425543, \\\\x22show_rel_notes_on_open\\\\x22: 45644210, \\\\x22show_signup_survey\\\\x22: 45425620, \\\\x22show_subscription_renewal_time\\\\x22: 45425569, \\\\x22show_switch_to_prod_link\\\\x22: 45425483, \\\\x22signup_ccu_increase\\\\x22: 45689970, \\\\x22single_page_consent_form\\\\x22: 45656775, \\\\x22smartpaste\\\\x22: 45627425, \\\\x22smartpaste_chars_limit\\\\x22: 45714219, \\\\x22smartpaste_serving_config\\\\x22: 45630585, \\\\x22sql_cell\\\\x22: 45425497, \\\\x22sql_completion_lsp\\\\x22: 45688254, \\\\x22suggest_plots\\\\x22: 45696393, \\\\x22task_service_initial_poll_interval_ms\\\\x22: 45696534, \\\\x22task_service_max_poll_count\\\\x22: 45669592, \\\\x22task_service_max_poll_interval_ms\\\\x22: 45696536, \\\\x22task_service_poll_interval_growth_factor\\\\x22: 45696535, \\\\x22task_service_poll_interval_ms\\\\x22: 45669591, \\\\x22task_service_poll_timeout_ms\\\\x22: 45696537, \\\\x22task_service_wait_before_polling_ms\\\\x22: 45669590, \\\\x22term4all\\\\x22: 45425542, \\\\x22terminate_session_on_connect_to_new_vm\\\\x22: 45683597, \\\\x22text_cell_editor_toolbar_exit_button\\\\x22: 45723722, \\\\x22text_compose_report_changes_millis\\\\x22: 45425568, \\\\x22text_span_comments\\\\x22: 45545873, \\\\x22tpu_node_redirect\\\\x22: 45634372, \\\\x22tpu_resource_stats\\\\x22: 45655215, \\\\x22transform_code\\\\x22: 45667102, \\\\x22transform_code_context_file_per_cell\\\\x22: 45671260, \\\\x22trim_filename_extension\\\\x22: 45691676, \\\\x22turn_off_agent_mode_when_safe\\\\x22: 45679577, \\\\x22unmanaged_vm_min_label_block\\\\x22: 45425546, \\\\x22unmanaged_vm_min_label_warn\\\\x22: 45425547, \\\\x22unmanaged_vm_min_release_tag_block\\\\x22: 45425548, \\\\x22unmanaged_vm_min_release_tag_warn\\\\x22: 45425549, \\\\x22unsupported_magics_check\\\\x22: 45644829, \\\\x22use_ai_service\\\\x22: 45713338, \\\\x22use_colab_adk_service\\\\x22: 20730464, \\\\x22user_visible_accelerator_models\\\\x22: 45682571, \\\\x22v_100_redirect\\\\x22: 45644963, \\\\x22verbose_warnings\\\\x22: 45425551, \\\\x22vertex_ai_api_environment_override\\\\x22: 45612077, \\\\x22viz_cell\\\\x22: 45690754, \\\\x22want_completions_ai_consent_campaign\\\\x22: 45671138, \\\\x22workstations\\\\x22: 45425626\\\\x7d\\\\x7d\\'); var colabUserEmail = \\'anonymous\\'; var colabRenderDataToken = \\'AFWLbD0Zg73-PL9Lrt6Rai_JDSXoP0h2zEMom7nsj65w62aQrLUfW1jrXfIpL_k6ggvuP9UPr_840mW8jf8aSwWX7f21T4NmUpDU\\'; var colabConfig = \\'\\\\x5b\\\\x5b\\\\x22anonymous\\\\x22,\\\\x5b1,\\\\x22AHXL0D3CVBCxbFMWSr\\\\/82nCYm3AazhNq5UPzz3sMkkXFUFutpBJdzAgKz1teIkhA7mwvq8TfG23AckznK5qB3WcYN+D169uLAuiVoe8PTbflXqIVdwXPXOe7JR2q2UACVHT9lv0mUEOCxD69pfjtsyBXYazyKwpKyZEL6pysYvpq\\\\/hocqM\\\\/hyjJqJO78GPLaohy8KfuCG9PROV1gMf0PNDhzZwQJz2QCnau5MLM3meVCopSNOAeMG5uUOfL\\\\/s\\\\/ykC+H\\\\/Og1KhdCnywDIvRpQKE50N1FfLhXX3MNmrWnq3SiT\\\\/UAbZoE7qIGIvP0vZgkQjgpqi98JYU92+0CY+MivmDtVwzqld2Efpco9xsOAg7xXVPQh67XR0CBSA3sAA5Q3pQuNbF5ogAC9Y4tk7eWMYPW51na6KGJZ8XvCtRb+FJ3ouGV1YwhmqIly5+32uLYSGiPG3HDYq2DNiaFp1Ues4O\\\\/IMLFHKnyutNt2P6JYHViOTUefiByNvlWkn3IC1R98c4QOjHN3hwyu98sf3nMchsJl8OGYHC5VejPSugCwpE0lJ3FRvL86uAFVLn2+0wZAJkDvaphMvO8IYwO8B0SBeRf46Vf8oyml6lCi74tUn2KBuvtauXGgOtuJCTltIJz1X5wOsUht29JOqsFXGn5cEzVL7sqnTBQdkTYhwpL47d5T+Ac79n\\\\/IQNsPbeTAo0vHqADpwqAJ6owXAQoLcpfaeo7HndSjL+oSGkVmpCxyrQ1ZITS\\\\/GJLA2OCiH5mIGo1\\\\/aluEtqAV61uukMPiwiLdlIMt\\\\/qEnFecMVrmRKfUXQP3dpA15LkfSu\\\\/cyeJPXSx2AnbSLNLLRkKPYXoE4rYjX17vR0pZQX2o4HssNsGLOjz\\\\/SvjXA5g2puBEpiDMKB1\\\\/EpO12RYGIgNephB2CWrEmdBXHwP+DT5id2t3552xqti8nbbnHV5BJL4wRD7CYzmnWx0jCYwDxbymUeYPMCATpwxEvyhxAg1kwyfYzcSjfjRhmCB\\\\/9zDpvEKCXVcYTOQeq\\\\/UoRwPAXROZQ7+sc5SAFrJNQfxLirePemvYxxwJq8G1iwfbpnRlBqhqcyMFCLmuUVfzUxvKcZbptx64L3lf0gH1RpOjHvg22UpA\\\\/AoxrOpi2xrzeRfwpjDjSfzSRTpdgrJNKfLfHeFpHp38tO0JU40qHRZ0xe8n4qrAGvvXQxh1cEZLaJJ+f2S3qWWUEhn7LYZlduV\\\\/Yd3qby9bJv9BcnsrFJ1NNUHe17HjOLva6Xk8dU1gg62lSh3KBtLDJ0ktZbZcrW7Qyc\\\\/5Q0kRLiPA7J4udE4ae0BSyqZwQg7Tki4VSl0UhIsHoG5WofGnbQ2\\\\/DYfDP0D+9TwBbocmCMr20iQKwUIEdh4S83KSHAI1utWKUOvOt1Vh0ZWr4Rs43VwCIX4wbTxQatuaOt6Wpt6GMwl33PMIDTy3HQ3Ir+PXQphgvOfsXhKr5uKPyLpql5OL\\\\/rnmxt0vKl2CJ573c+ZhzPjNwL5zKdWqaRiYE9oPdIxBVSGKl+JPn9Ru4jzb+yDK1xmWVl9W+TDAJhrZOIx0Cqzsj7inNM1FHxhIEHSAQToPmKTMQ3CDinITJUrmim4xlULs1r4ZxOaU13G\\\\/r343ccacYC69tcqVaplOI3xx9+Zkv3NVZdBs7jbr1BAuZVTETL1a7x9fvmWe\\\\/0ktal31ePXTItKjCp5O4lao\\\\/qL6evrDovxTF2aq\\\\/sAGdt3MjCruUC09p15DibY82\\\\/Iath8T9+YuUbPkY90VIoYSqCmXEHdy4YYDW7N0PSPkZPm6hO9TiFCbNwc9OyC7g6S5JAJ+gjpvrpMfRwRPTTqlGmr4lj0DIvPFYXxXv7CiQ0OVQqoAZcJA+IT53\\\\/CMvZF5R2UBMQn0F5F7HayFtQdW5z+Pw025ffUmFO5iRByF5hD+xYy3hbZE0r7W5iy6wfc4A431A2sYKhywlAwPFLyma\\\\/bskyvgZVUaknkJtRHR1ZWMlUQ3rfmS1FZLnmyXc\\\\x22,\\\\x22AJ9oCCytajBg4K0dkfx++EgUXmihhF+QVmrwi1iN\\\\/dfOOBPFM3Gy5Cye8BTZsvqNGl6Y38TnQ4ho9AC061ZhsNAS8mEopMTM0\\\\/r5Ck3ISnF+6xjcOpIJvyA\\\\x3d\\\\x22,\\\\x22https:\\\\/\\\\/payments.google.com\\\\/payments\\\\x22,0,0,null,null,null,\\\\x22$9.99\\\\x22,\\\\x22$49.99\\\\x22,\\\\x22$9.99\\\\x22,\\\\x22$49.99\\\\x22,0,0,0\\\\x5d,\\\\x5b1,5\\\\x5d,\\\\x22US\\\\x22,0\\\\x5d\\\\x5d\\';</script><link id=\\'favicon-link\\' rel=\"shortcut icon\" href=\"https://ssl.gstatic.com/colaboratory-static/common/ba949deb249ef9f47fc1dcc9f5a324cc/img/favicon.ico\"/><meta name=\"google-site-verification\" content=\"wRgpUU3mIRZPD1GORBPNonaotM72092B_DsqQFWNa4s\"/><meta name=\"google-site-verification\" content=\"dsf7CRwnDkQv6Ot4gXTXx8_nVf8A9cb5o30hZ7cGAIo\"/><meta name=\"google-site-verification\" content=\"K1UdZBHJXQYnJGXIK1KuutmVy6dn3vG2sEyV9D1C6dM\"/><meta name=\"google-site-verification\" content=\"wdGthzzfu0IjM3qpFqTuQL9poAQZAvAaFKyuzetLpIM\"/><meta name=\"google-site-verification\" content=\"qZJ77guHGO0TObHUBRYVdXQlIhXBBuz8dahJVmIlzCo\"/><meta name=\"google-site-verification\" content=\"7ahoeOOKT2ZR781GZ5xK4L9t7yO1ZOHc-gaoUALEYgw\"/><meta name=\"google-site-verification\" content=\"PHgaSKwdxZELS21aixtLhfpvaHtKen9pnVJ25EI35Zs\"/><meta name=\"google-site-verification\" content=\"qylwTsZSLomIg1JrChne7cPcXmtC2Xh_5ZxlJWLlAH0\"/><meta name=\"google-site-verification\" content=\"BQfukMqFy1nu2Q2gjGbNTDA8MJ_Y4L2brCYA1h6ewkY\"/><meta name=\"google-site-verification\" content=\"pIZq7V_Vt54MAfdQe5afm8zeJrl3o4GkRW-etNvnlKI\"/><meta name=\"google-site-verification\" content=\"Ozey1ptWUQW13_lCEhpPMOcmRBLqdyB3WEL-TJUjskU\"/><meta name=\"google-site-verification\" content=\"z-WR3zzv8XZ5FFfBLLDbyTiN35UXm01nWUS2Uej5pwg\"/><meta name=\"google-site-verification\" content=\"rF5iXzWe9KZXJes1dQNhOUkS4_z_e97IrsVoCx2trek\"/><meta name=\"google-site-verification\" content=\"vsXaeD7OD0m3iK8Z54fG8TYGC5eT17KeL_xMHtdiyWI\"/><meta name=\"google-site-verification\" content=\"cpB5oulaGwqSxsg4E-9q2MVbK87iE9NAUUVxdveucPw\"/><meta name=\"google-site-verification\" content=\"b6bOMRzMVX2bJABYDGBPtpGcB_AUZ-o2SOTggQXErkg\"/><meta name=\"google-site-verification\" content=\"88fgsZDoVRBuRnDPMIEjcHCxsEXzODOqEsJoqtvQsDc\"/><meta name=\"google-site-verification\" content=\"hZkpVtQ8gdGznkTfUekRWeGY05QyeLXb6q946CFw2-c\"/><meta name=\"google-site-verification\" content=\"sMarhZgb4va_L_7UTdMR43gDZ2gVqc_5GHN4REpQPGY\"/><meta name=\"google-site-verification\" content=\"26aKGBCw3XblB5Ou01UhxY5WDtMqHjoTm6P-lvF6AqE\"/><meta name=\"google-site-verification\" content=\"DGionF7db9g0dOgeBXwOAN2tmCzWBdo5yOdc_-5UcuE\"/><meta name=\"google-site-verification\" content=\"Q9LlidR0toR7UtSyVO23xNeaqJmRp8I6r4ghBQTtntU\"/><meta name=\"google-site-verification\" content=\"rQawcZaTEK_UrDG30cz_7nVKOVvBass61QEes0Tm04g\"/><meta name=\"google-site-verification\" content=\"-N1hdkiHJQ6kwJALkHVh2ZzV2fFNER0schZl2AU6zvc\"/><meta name=\"google-site-verification\" content=\"8L3ghjzKIj241AYAmEygniTe604tsXFkIrb1v-DBtGo\"/><meta name=\"google-site-verification\" content=\"Gz6pcDgVFH_aS-aPTYW21rSHcWl0LAgKCWJtdXPVTNo\"/><meta name=\"google-site-verification\" content=\"KiunYPvrY5x8umvAWcjhwPrB677xCar2LeT_8yaVrDg\"/><meta name=\"google-site-verification\" content=\"LypEVvHhYiLSzDs9PabhmOmsfMfEjVGq2rLXJbtqdzY\"/><meta property=\"og:type\" content=\"article\"/><meta property=\"og:image\" content=\"https://colab.research.google.com/img/colab_favicon_256px.png\"/><meta property=\"og:title\" content=\"Google Colab\"/><meta http-equiv=\"origin-trial\" content=\"Agk/t4Bt05W7j6CHeqXH9+6ccDayrBsQPqCLDPSElphe/7cUobayuvN0A3huajTbJenIjp6qibLteh6e0IEWrgIAAAB4eyJvcmlnaW4iOiJodHRwczovL2NvbGFiLnJlc2VhcmNoLmdvb2dsZS5jb206NDQzIiwiZmVhdHVyZSI6IkRpc2FibGVUaGlyZFBhcnR5U3RvcmFnZVBhcnRpdGlvbmluZzIiLCJleHBpcnkiOjE3NDIzNDIzOTl9\"/><script nonce=\"mL0xr1RZ/ldLtc36ki5rZA==\">window.performance.mark(\\'head_end\\'); window.performance.measure(\\'head\\', \\'head_start\\', \\'head_end\\');</script></head><body class=\"\"><div class=\"onegoogle\"><div class=\"gb_Fa gb_Bd gb_ub\" id=\"gb\"><div class=\"gb_0d gb_rb gb_Qd\" ng-non-bindable=\"\" data-ogsr-up=\"\" style=\"padding:0\"><div class=\"gb_Ad\" style=\"display:block\"><div class=\"gb_hd\"></div><a class=\"gb_Ua gb_Ud gb_Md gb_Cd\" aria-label=\"Sign in\" href=\"https://accounts.google.com/ServiceLogin?passive=true&amp;continue=https%3A%2F%2Fcolab.research.google.com%2Fdrive%2F1uSKeCz03sFxr6IG4K27SoChaxIwPj4dq%3Fusp%3Ddrive_link%2FFunctions.ipynb&amp;ec=GAZAqQM\" target=\"_top\"><span class=\"gb_be\">Sign in</span></a></div></div></div><script nonce=\"mL0xr1RZ/ldLtc36ki5rZA==\">this.gbar_=this.gbar_||{};(function(_){var window=this;', 'try{', '_.ie=function(a,b,c){if(!a.j)if(c instanceof Array){c=_.C(c);for(var d=c.next();!d.done;d=c.next())_.ie(a,b,d.value)}else{d=(0,_.D)(a.C,a,b);var e=a.v+c;a.v++;b.dataset.eqid=e;a.B[e]=d;b&&b.addEventListener?b.addEventListener(c,d,!1):b&&b.attachEvent?b.attachEvent(\"on\"+c,d):a.o.log(Error(\"H`\"+b))}};', '}catch(e){_._DumpException(e)}', 'try{', '_.je=function(){if(!_.t.addEventListener||!Object.defineProperty)return!1;var a=!1,b=Object.defineProperty({},\"passive\",{get:function(){a=!0}});try{var c=function(){};_.t.addEventListener(\"test\",c,b);_.t.removeEventListener(\"test\",c,b)}catch(d){}return a}();', '}catch(e){_._DumpException(e)}', 'try{', 'var ke=document.querySelector(\".gb_J .gb_B\"),le=document.querySelector(\"#gb.gb_7c\");ke&&!le&&_.ie(_.Td,ke,\"click\");', '}catch(e){_._DumpException(e)}', 'try{', 'var Xh=function(a){_.S.call(this);this.B=a;this.v=null;this.o={};this.C={};this.i={};this.j=null};_.B(Xh,_.S);_.Yh=function(a){if(a.v)return a.v;for(var b in a.i)if(a.i[b].Fe()&&a.i[b].hb())return a.i[b];return null};Xh.prototype.A=function(a){this.i[a]&&(_.Yh(this)&&_.Yh(this).zc()==a||this.i[a].zd(!0))};Xh.prototype.Ra=function(a){this.j=a;for(var b in this.i)this.i[b].Fe()&&this.i[b].Ra(a)};_.Zh=function(a,b){a.i[b.zc()]=b};Xh.prototype.Tb=function(a){return a in this.i?this.i[a]:null};var $h=new Xh(_.Sd);_.Wd(\"dd\",$h);', '}catch(e){_._DumpException(e)}', 'try{', '_.qj=function(a,b){return _.N(a,36,b)};', '}catch(e){_._DumpException(e)}', 'try{', 'var rj=document.querySelector(\".gb_z .gb_B\"),sj=document.querySelector(\"#gb.gb_7c\");rj&&!sj&&_.ie(_.Td,rj,\"click\");', '}catch(e){_._DumpException(e)}', '})(this.gbar_);', '// Google Inc.', '</script></div><div class=\"scripts\"><script nonce=\"mL0xr1RZ/ldLtc36ki5rZA==\">window.performance.mark(\\'external_scripts_start\\');</script><script src=\"https://ssl.gstatic.com/colaboratory-static/common/ba949deb249ef9f47fc1dcc9f5a324cc/gapi_loader.js\" nonce=\"mL0xr1RZ/ldLtc36ki5rZA==\"></script><script src=\"https://ssl.gstatic.com/colaboratory-static/common/ba949deb249ef9f47fc1dcc9f5a324cc/socketio_binary.js\" nonce=\"mL0xr1RZ/ldLtc36ki5rZA==\"></script><script src=\"https://ssl.gstatic.com/colaboratory-static/common/ba949deb249ef9f47fc1dcc9f5a324cc/analytics_binary.js\" nonce=\"mL0xr1RZ/ldLtc36ki5rZA==\"></script><script src=\"/static/mathjax/MathJax.js?config=TeX-AMS_HTML-full,Safe&delayStartupUntil=configured\" nonce=\"mL0xr1RZ/ldLtc36ki5rZA==\"></script><script src=\"https://ssl.gstatic.com/colaboratory-static/common/ba949deb249ef9f47fc1dcc9f5a324cc/js%2Fmonaco_editor%2Fvs%2Floader.js\" nonce=\"mL0xr1RZ/ldLtc36ki5rZA==\"></script><script nonce=\"mL0xr1RZ/ldLtc36ki5rZA==\">window.performance.mark(\\'external_scripts_end\\'); window.performance.measure(\\'external_scripts\\', \\'external_scripts_start\\', \\'external_scripts_end\\'); window.performance.mark(\\'colab_load_start\\');</script><script src=\"https://ssl.gstatic.com/colaboratory-static/common/ba949deb249ef9f47fc1dcc9f5a324cc/external_binary.js\" nonce=\"mL0xr1RZ/ldLtc36ki5rZA==\"></script><script nonce=\"mL0xr1RZ/ldLtc36ki5rZA==\">', \"window.performance.mark('colab_load_end');\", \"window.performance.measure('colab_load', 'colab_load_start', 'colab_load_end');\", '</script></div><div ng-non-bindable=\"\"></div><script nonce=\"mL0xr1RZ/ldLtc36ki5rZA==\">this.gbar_=this.gbar_||{};(function(_){var window=this;', 'try{', 'var oe=function(){_.aa.call(this)};_.B(oe,_.Xd);_.pe=function(a,b){if(b in a.i)return a.i[b];throw new oe(b);};_.qe=function(a){return _.pe(_.Ud.i(),a)};', '}catch(e){_._DumpException(e)}', 'try{', '/*', '', 'Copyright Google LLC', 'SPDX-License-Identifier: Apache-2.0', '*/', 'var te,ue;_.re=function(a){var b=a.length;if(b>0){for(var c=Array(b),d=0;d<b;d++)c[d]=a[d];return c}return[]};te=function(a){return new _.se(function(b){return b.substr(0,a.length+1).toLowerCase()===a+\":\"})};ue=0;_.ve=function(a){return Object.prototype.hasOwnProperty.call(a,_.dc)&&a[_.dc]||(a[_.dc]=++ue)};_.we=globalThis.trustedTypes;_.xe=function(a){this.i=a};_.xe.prototype.toString=function(){return this.i};_.ye=new _.xe(\"about:invalid#zClosurez\");_.se=function(a){this.Zj=a};_.ze=[te(\"data\"),te(\"http\"),te(\"https\"),te(\"mailto\"),te(\"ftp\"),new _.se(function(a){return/^[^:]*([/?#]|$)/.test(a)})];_.Ae=function(a){this.i=a};_.Ae.prototype.toString=function(){return this.i+\"\"};_.Be=new _.Ae(_.we?_.we.emptyHTML:\"\");', '}catch(e){_._DumpException(e)}', 'try{', 'var Ge,Re,Ue,Fe,He;_.Ce=function(a){return/^[\\\\s\\\\xa0]*$/.test(a)};_.De=function(a){if(a==null)return a;if(typeof a===\"string\"&&a)a=+a;else if(typeof a!==\"number\")return;return(0,_.Sa)(a)?a|0:void 0};_.Ee=function(a,b){return a.lastIndexOf(b,0)==0};Ge=function(){var a=null;if(!Fe)return a;try{var b=function(c){return c};a=Fe.createPolicy(\"ogb-qtm#html\",{createHTML:b,createScript:b,createScriptURL:b})}catch(c){}return a};_.Ie=function(){He===void 0&&(He=Ge());return He};', '_.Ke=function(a){var b=_.Ie();a=b?b.createScriptURL(a):a;return new _.Je(a)};_.Le=function(a){if(a instanceof _.Je)return a.i;throw Error(\"L\");};_.Ne=function(a){if(Me.test(a))return a};_.Oe=function(a){if(a instanceof _.xe)if(a instanceof _.xe)a=a.i;else throw Error(\"L\");else a=_.Ne(a);return a};_.Pe=function(a,b){b=b===void 0?document:b;var c,d;b=(d=(c=b).querySelector)==null?void 0:d.call(c,a+\"[nonce]\");return b==null?\"\":b.nonce||b.getAttribute(\"nonce\")||\"\"};', '_.T=function(a,b,c){return _.Ra(_.rd(a,b,c,_.qd))};_.Qe=function(a,b){return _.De(_.rd(a,b,void 0,_.qd))};Re=function(a){this.J=_.x(a)};_.B(Re,_.R);Re.prototype.Kb=function(a){return _.P(this,24,a)};_.Se=function(){return _.I(_.Pd,Re,1)};_.Te=function(a){var b=_.Pa(a);return b==\"array\"||b==\"object\"&&typeof a.length==\"number\"};Fe=_.we;_.Je=function(a){this.i=a};_.Je.prototype.toString=function(){return this.i+\"\"};var Me=/^\\\\s*(?!javascript:)(?:[\\\\w+.-]+:|[^:/?#]*(?:[/?#]|$))/i;var $e,df,Ve;_.Xe=function(a){return a?new Ve(_.We(a)):Ue||(Ue=new Ve)};_.Ye=function(a,b){return typeof b===\"string\"?a.getElementById(b):b};_.V=function(a,b){var c=b||document;c.getElementsByClassName?a=c.getElementsByClassName(a)[0]:(c=document,a=a?(b||c).querySelector(a?\".\"+a:\"\"):_.Ze(c,\"*\",a,b)[0]||null);return a||null};_.Ze=function(a,b,c,d){a=d||a;return(b=b&&b!=\"*\"?String(b).toUpperCase():\"\")||c?a.querySelectorAll(b+(c?\".\"+c:\"\")):a.getElementsByTagName(\"*\")};', '_.af=function(a,b){_.Hb(b,function(c,d){d==\"style\"?a.style.cssText=c:d==\"class\"?a.className=c:d==\"for\"?a.htmlFor=c:$e.hasOwnProperty(d)?a.setAttribute($e[d],c):_.Ee(d,\"aria-\")||_.Ee(d,\"data-\")?a.setAttribute(d,c):a[d]=c})};$e={cellpadding:\"cellPadding\",cellspacing:\"cellSpacing\",colspan:\"colSpan\",frameborder:\"frameBorder\",height:\"height\",maxlength:\"maxLength\",nonce:\"nonce\",role:\"role\",rowspan:\"rowSpan\",type:\"type\",usemap:\"useMap\",valign:\"vAlign\",width:\"width\"};', '_.bf=function(a){return a?a.defaultView:window};_.ef=function(a,b){var c=b[1],d=_.cf(a,String(b[0]));c&&(typeof c===\"string\"?d.className=c:Array.isArray(c)?d.className=c.join(\" \"):_.af(d,c));b.length>2&&df(a,d,b);return d};', 'df=function(a,b,c){function d(h){h&&b.appendChild(typeof h===\"string\"?a.createTextNode(h):h)}for(var e=2;e<c.length;e++){var f=c[e];if(!_.Te(f)||_.cc(f)&&f.nodeType>0)d(f);else{a:{if(f&&typeof f.length==\"number\"){if(_.cc(f)){var g=typeof f.item==\"function\"||typeof f.item==\"string\";break a}if(typeof f===\"function\"){g=typeof f.item==\"function\";break a}}g=!1}_.Ac(g?_.re(f):f,d)}}};_.ff=function(a){return _.cf(document,a)};', '_.cf=function(a,b){b=String(b);a.contentType===\"application/xhtml+xml\"&&(b=b.toLowerCase());return a.createElement(b)};_.gf=function(a){for(var b;b=a.firstChild;)a.removeChild(b)};_.hf=function(a){return a&&a.parentNode?a.parentNode.removeChild(a):null};_.jf=function(a,b){if(!a||!b)return!1;if(a.contains&&b.nodeType==1)return a==b||a.contains(b);if(typeof a.compareDocumentPosition!=\"undefined\")return a==b||!!(a.compareDocumentPosition(b)&16);for(;b&&a!=b;)b=b.parentNode;return b==a};', '_.We=function(a){return a.nodeType==9?a:a.ownerDocument||a.document};Ve=function(a){this.i=a||_.t.document||document};_.l=Ve.prototype;_.l.H=function(a){return _.Ye(this.i,a)};_.l.Na=function(a,b,c){return _.ef(this.i,arguments)};_.l.appendChild=function(a,b){a.appendChild(b)};_.l.mf=_.gf;_.l.Wg=_.hf;_.l.Vg=_.jf;', '}catch(e){_._DumpException(e)}', 'try{', '_.xj=function(a){var b=_.Pe(\"script\",a.ownerDocument);b&&a.setAttribute(\"nonce\",b)};_.yj=function(a){if(!a)return null;a=_.M(a,4);var b;a===null||a===void 0?b=null:b=_.Ke(a);return b};_.zj=function(a,b,c){a=a.J;return _.Eb(a,a[_.v]|0,b,c)!==void 0};_.Aj=function(a){this.J=_.x(a)};_.B(_.Aj,_.R);_.Bj=function(){for(var a=Number(this),b=[],c=a;c<arguments.length;c++)b[c-a]=arguments[c];return b};_.Cj=function(a,b){return(b||document).getElementsByTagName(String(a))};', '}catch(e){_._DumpException(e)}', 'try{', 'var Ej=function(a,b,c){a<b?Dj(a+1,b):_.Sd.log(Error(\"ja`\"+a+\"`\"+b),{url:c})},Dj=function(a,b){if(Fj){var c=_.ff(\"SCRIPT\");c.async=!0;c.type=\"text/javascript\";c.charset=\"UTF-8\";c.src=_.Le(Fj);_.xj(c);c.onerror=_.hc(Ej,a,b,c.src);_.Cj(\"HEAD\")[0].appendChild(c)}},Gj=function(a){this.J=_.x(a)};_.B(Gj,_.R);var Hj=_.I(_.Pd,Gj,17)||new Gj,Ij,Fj=(Ij=_.I(Hj,_.Aj,1))?_.yj(Ij):null,Jj,Kj=(Jj=_.I(Hj,_.Aj,2))?_.yj(Jj):null,Lj=function(){Dj(1,2);if(Kj){var a=_.ff(\"LINK\");a.setAttribute(\"type\",\"text/css\");a.href=_.Le(Kj).toString();a.rel=\"stylesheet\";var b=_.Pe(\"style\",document);b&&a.setAttribute(\"nonce\",b);_.Cj(\"HEAD\")[0].appendChild(a)}};(function(){var a=_.Se();if(_.T(a,18))Lj();else{var b=_.Qe(a,19)||0;window.addEventListener(\"load\",function(){window.setTimeout(Lj,b)})}})();', '}catch(e){_._DumpException(e)}', '})(this.gbar_);', '// Google Inc.', '</script></body></html>']\n"
          ]
        }
      ]
    },
    {
      "cell_type": "code",
      "source": [
        "# 8. Use a lambda function in Python to sort a list of tuples based on the second element of each tuple.\n",
        "numbers = [(3, 4), (1, 2), (5, 6)]\n",
        "sorted_numbers = sorted(numbers, key=lambda x: x[1])\n",
        "print(sorted_numbers)"
      ],
      "metadata": {
        "colab": {
          "base_uri": "https://localhost:8080/"
        },
        "id": "bNZIXtr_vO19",
        "outputId": "98b92261-5646-4f7a-9c37-1b5d77d031e5"
      },
      "execution_count": 52,
      "outputs": [
        {
          "output_type": "stream",
          "name": "stdout",
          "text": [
            "[(1, 2), (3, 4), (5, 6)]\n"
          ]
        }
      ]
    },
    {
      "cell_type": "code",
      "source": [
        "# 9. Write a Python program that uses `map()` to convert a list of temperatures from Celsius to Fahrenheit.\n",
        "celsius = [0, 10, 20, 30]\n",
        "fahrenheit = list(map(lambda x: (x * 9/5) + 32, celsius))\n",
        "print(fahrenheit)"
      ],
      "metadata": {
        "colab": {
          "base_uri": "https://localhost:8080/"
        },
        "id": "mOeT3eH8vi9R",
        "outputId": "5c40d74a-95be-48df-a544-1a7e9ef205cf"
      },
      "execution_count": 54,
      "outputs": [
        {
          "output_type": "stream",
          "name": "stdout",
          "text": [
            "[32.0, 50.0, 68.0, 86.0]\n"
          ]
        }
      ]
    },
    {
      "cell_type": "code",
      "source": [
        "# 10. Create a Python program that uses `filter()` to remove all the vowels from a given string.\n",
        "def remove_vowels(string):\n",
        "  return ''.join([char for char in string if char not in 'aeiouAEIOU'])\n",
        "print(remove_vowels(\"hello world\"))"
      ],
      "metadata": {
        "colab": {
          "base_uri": "https://localhost:8080/"
        },
        "id": "CKUZg0SXvr2Y",
        "outputId": "17f5fafd-8847-403b-c420-802c43921ea4"
      },
      "execution_count": 57,
      "outputs": [
        {
          "output_type": "stream",
          "name": "stdout",
          "text": [
            "hll wrld\n"
          ]
        }
      ]
    },
    {
      "cell_type": "code",
      "source": [
        "# 11. Imagine an accounting routine used in a book shop. It works on a list with sublists, which look like this:\n",
        "orders = [\n",
        "    [34587, \"Learning Python, Mark Lutz\", 4, 40.95],\n",
        "    [98762, \"Programming Python, Mark Lutz\", 5, 56.80],\n",
        "    [77226, \"Head First Python, Paul Barry\", 3, 32.95],\n",
        "    [88112, \"Einführung in Python3, Bernd Klein\", 3, 24.99]\n",
        "]\n",
        "# Using lambda and map according to the condition\n",
        "result = list(map(lambda order: (\n",
        "    order[0],\n",
        "    order[2]*order[3] + 10 if order[2]*order[3] < 100 else order[2]*order[3] ), orders))\n",
        "print(result)"
      ],
      "metadata": {
        "colab": {
          "base_uri": "https://localhost:8080/"
        },
        "id": "14e2Ls6zwDco",
        "outputId": "ae463772-5242-41e2-84e3-98fc865c47d5"
      },
      "execution_count": 59,
      "outputs": [
        {
          "output_type": "stream",
          "name": "stdout",
          "text": [
            "[(34587, 163.8), (98762, 284.0), (77226, 108.85000000000001), (88112, 84.97)]\n"
          ]
        }
      ]
    }
  ]
}